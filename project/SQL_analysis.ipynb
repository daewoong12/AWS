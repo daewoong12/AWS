{
 "cells": [
  {
   "cell_type": "code",
   "execution_count": 4,
   "id": "1f8f0798",
   "metadata": {},
   "outputs": [
    {
     "name": "stderr",
     "output_type": "stream",
     "text": [
      "24/12/18 11:00:54 WARN NativeCodeLoader: Unable to load native-hadoop library for your platform... using builtin-java classes where applicable\n",
      "Using Spark's default log4j profile: org/apache/spark/log4j-defaults.properties\n",
      "Setting default log level to \"WARN\".\n",
      "To adjust logging level use sc.setLogLevel(newLevel). For SparkR, use setLogLevel(newLevel).\n"
     ]
    }
   ],
   "source": [
    "from pyspark.sql import SparkSession\n",
    "spark = SparkSession.builder.appName(\"trip_count_by_zone_sql\").getOrCreate()"
   ]
  },
  {
   "cell_type": "code",
   "execution_count": 5,
   "id": "1f3c8f0f",
   "metadata": {},
   "outputs": [
    {
     "name": "stderr",
     "output_type": "stream",
     "text": [
      "                                                                                \r"
     ]
    }
   ],
   "source": [
    "import os\n",
    "trip_files = '/home/lab01/src/data/trip/*'\n",
    "zone_file = '/home/lab01/src/data/taxi+_zone_lookup.csv'\n",
    "\n",
    "# CSV 파일 읽기\n",
    "trips_df = spark.read.csv(trip_files, inferSchema=True, header=True)\n",
    "zone_df = spark.read.csv(zone_file, inferSchema=True, header=True)"
   ]
  },
  {
   "cell_type": "code",
   "execution_count": 6,
   "id": "6d2952bc",
   "metadata": {},
   "outputs": [
    {
     "name": "stdout",
     "output_type": "stream",
     "text": [
      "root\n",
      " |-- LocationID: integer (nullable = true)\n",
      " |-- Borough: string (nullable = true)\n",
      " |-- Zone: string (nullable = true)\n",
      " |-- service_zone: string (nullable = true)\n",
      "\n"
     ]
    }
   ],
   "source": [
    "zone_df.printSchema()"
   ]
  },
  {
   "cell_type": "code",
   "execution_count": 7,
   "id": "6af0b235",
   "metadata": {},
   "outputs": [
    {
     "name": "stdout",
     "output_type": "stream",
     "text": [
      "root\n",
      " |-- VendorID: integer (nullable = true)\n",
      " |-- tpep_pickup_datetime: string (nullable = true)\n",
      " |-- tpep_dropoff_datetime: string (nullable = true)\n",
      " |-- passenger_count: integer (nullable = true)\n",
      " |-- trip_distance: double (nullable = true)\n",
      " |-- RatecodeID: integer (nullable = true)\n",
      " |-- store_and_fwd_flag: string (nullable = true)\n",
      " |-- PULocationID: integer (nullable = true)\n",
      " |-- DOLocationID: integer (nullable = true)\n",
      " |-- payment_type: integer (nullable = true)\n",
      " |-- fare_amount: double (nullable = true)\n",
      " |-- extra: double (nullable = true)\n",
      " |-- mta_tax: double (nullable = true)\n",
      " |-- tip_amount: double (nullable = true)\n",
      " |-- tolls_amount: double (nullable = true)\n",
      " |-- improvement_surcharge: double (nullable = true)\n",
      " |-- total_amount: double (nullable = true)\n",
      " |-- congestion_surcharge: double (nullable = true)\n",
      "\n"
     ]
    }
   ],
   "source": [
    "trips_df.printSchema()"
   ]
  },
  {
   "cell_type": "code",
   "execution_count": 8,
   "id": "d6c7bfd1",
   "metadata": {},
   "outputs": [],
   "source": [
    "trips_df.createOrReplaceTempView(\"trips\")\n",
    "zone_df.createOrReplaceTempView(\"zone\")"
   ]
  },
  {
   "cell_type": "code",
   "execution_count": 9,
   "id": "cc433ac3",
   "metadata": {},
   "outputs": [
    {
     "name": "stdout",
     "output_type": "stream",
     "text": [
      "root\n",
      " |-- vendor_id: integer (nullable = true)\n",
      " |-- pickup_date: date (nullable = true)\n",
      " |-- dropoff_date: date (nullable = true)\n",
      " |-- pickup_time: integer (nullable = true)\n",
      " |-- dropoff_time: integer (nullable = true)\n",
      " |-- passenger_count: integer (nullable = true)\n",
      " |-- trip_distance: double (nullable = true)\n",
      " |-- fare_amount: double (nullable = true)\n",
      " |-- tip_amount: double (nullable = true)\n",
      " |-- tolls_amount: double (nullable = true)\n",
      " |-- total_amount: double (nullable = true)\n",
      " |-- payment_type: integer (nullable = true)\n",
      " |-- pickup_zone: string (nullable = true)\n",
      " |-- dropoff_zone: string (nullable = true)\n",
      "\n"
     ]
    }
   ],
   "source": [
    "query = \"\"\"\n",
    "SELECT \n",
    "    t.VendorID as vendor_id,\n",
    "    TO_DATE(t.tpep_pickup_datetime) as pickup_date,\n",
    "    TO_DATE(t.tpep_dropoff_datetime) as dropoff_date,\n",
    "    HOUR(t.tpep_pickup_datetime) as pickup_time,\n",
    "    HOUR(t.tpep_dropoff_datetime) as dropoff_time,\n",
    "    t.passenger_count,\n",
    "    t.trip_distance,\n",
    "    t.fare_amount,\n",
    "    t.tip_amount,\n",
    "    t.tolls_amount,\n",
    "    t.total_amount,\n",
    "    t.payment_type,\n",
    "    pz.Zone as pickup_zone,\n",
    "    dz.Zone as dropoff_zone\n",
    "FROM \n",
    "    trips t\n",
    "    LEFT JOIN \n",
    "        zone pz\n",
    "    ON\n",
    "        t.PULocationID = pz.LocationID\n",
    "    LEFT JOIN\n",
    "        zone dz\n",
    "    ON \n",
    "        t.DOLocationID = dz.LocationID\n",
    "\"\"\"\n",
    "comb_df = spark.sql(query)\n",
    "\n",
    "# 새로운 TempView에 담는다.\n",
    "comb_df.createOrReplaceTempView(\"comb_df\")\n",
    "comb_df.printSchema()"
   ]
  },
  {
   "cell_type": "code",
   "execution_count": 10,
   "id": "c44c8051",
   "metadata": {},
   "outputs": [
    {
     "name": "stderr",
     "output_type": "stream",
     "text": [
      "[Stage 5:===================================================>     (10 + 1) / 11]\r"
     ]
    },
    {
     "name": "stdout",
     "output_type": "stream",
     "text": [
      "+-------+-------------------+------------------+------------------+------------------+-----------------+------------------+-----------------+-------------------+-----------------+-------------------+--------------------+--------------------+\n",
      "|summary|          vendor_id|       pickup_time|      dropoff_time|   passenger_count|    trip_distance|       fare_amount|       tip_amount|       tolls_amount|     total_amount|       payment_type|         pickup_zone|        dropoff_zone|\n",
      "+-------+-------------------+------------------+------------------+------------------+-----------------+------------------+-----------------+-------------------+-----------------+-------------------+--------------------+--------------------+\n",
      "|  count|           14166672|          15000700|          15000700|          14166672|         15000700|          15000700|         15000700|           15000700|         15000700|           14166672|            15000700|            15000700|\n",
      "|   mean| 1.6872103059914143|14.137932963128387|14.230739165505609|1.4253783104458126|6.628629402627818| 12.89269334830367|2.146797558780939|0.31795104561765897|18.75545205708744| 1.2576846559304824|                null|                null|\n",
      "| stddev|0.46362950348710696| 5.142205765321459| 5.211786645369804|  1.04432704905968|671.7293482115828|145.54843567115813|2.610914434555077| 1.6542914124457562|145.7442452805979|0.47754596309959324|                null|                null|\n",
      "|    min|                  1|                 0|                 0|                 0|              0.0|            -643.5|          -333.32|             -38.02|           -647.8|                  1|Allerton/Pelham G...|Allerton/Pelham G...|\n",
      "|    max|                  2|                23|                23|                 9|        332541.19|         398466.38|          1140.44|             956.55|         398469.2|                  5|      Yorkville West|      Yorkville West|\n",
      "+-------+-------------------+------------------+------------------+------------------+-----------------+------------------+-----------------+-------------------+-----------------+-------------------+--------------------+--------------------+\n",
      "\n"
     ]
    },
    {
     "name": "stderr",
     "output_type": "stream",
     "text": [
      "\r",
      "                                                                                \r"
     ]
    }
   ],
   "source": [
    "from pyspark.sql.functions import *\n",
    "# 기초 통계 확인\n",
    "comb_df.describe().show()"
   ]
  },
  {
   "cell_type": "code",
   "execution_count": 11,
   "id": "6de90a45",
   "metadata": {
    "scrolled": true
   },
   "outputs": [
    {
     "name": "stdout",
     "output_type": "stream",
     "text": [
      "+---------+-----------+------------+-----------+------------+---------------+-------------+-----------+----------+------------+------------+------------+-----------+------------+\n",
      "|vendor_id|pickup_date|dropoff_date|pickup_time|dropoff_time|passenger_count|trip_distance|fare_amount|tip_amount|tolls_amount|total_amount|payment_type|pickup_zone|dropoff_zone|\n",
      "+---------+-----------+------------+-----------+------------+---------------+-------------+-----------+----------+------------+------------+------------+-----------+------------+\n",
      "|        0|          0|           0|          0|           0|              0|            0|          0|         0|           0|           0|           0|          0|           0|\n",
      "|        0|          0|           0|          0|           0|              0|            0|          0|         0|           0|           0|           0|          0|           0|\n",
      "|        0|          0|           0|          0|           0|              0|            0|          0|         0|           0|           0|           0|          0|           0|\n",
      "|        0|          0|           0|          0|           0|              0|            0|          0|         0|           0|           0|           0|          0|           0|\n",
      "|        0|          0|           0|          0|           0|              0|            0|          0|         0|           0|           0|           0|          0|           0|\n",
      "|        0|          0|           0|          0|           0|              0|            0|          0|         0|           0|           0|           0|          0|           0|\n",
      "|        0|          0|           0|          0|           0|              0|            0|          0|         0|           0|           0|           0|          0|           0|\n",
      "|        0|          0|           0|          0|           0|              0|            0|          0|         0|           0|           0|           0|          0|           0|\n",
      "|        0|          0|           0|          0|           0|              0|            0|          0|         0|           0|           0|           0|          0|           0|\n",
      "|        0|          0|           0|          0|           0|              0|            0|          0|         0|           0|           0|           0|          0|           0|\n",
      "|        0|          0|           0|          0|           0|              0|            0|          0|         0|           0|           0|           0|          0|           0|\n",
      "|        0|          0|           0|          0|           0|              0|            0|          0|         0|           0|           0|           0|          0|           0|\n",
      "|        0|          0|           0|          0|           0|              0|            0|          0|         0|           0|           0|           0|          0|           0|\n",
      "|        0|          0|           0|          0|           0|              0|            0|          0|         0|           0|           0|           0|          0|           0|\n",
      "|        0|          0|           0|          0|           0|              0|            0|          0|         0|           0|           0|           0|          0|           0|\n",
      "|        0|          0|           0|          0|           0|              0|            0|          0|         0|           0|           0|           0|          0|           0|\n",
      "|        0|          0|           0|          0|           0|              0|            0|          0|         0|           0|           0|           0|          0|           0|\n",
      "|        0|          0|           0|          0|           0|              0|            0|          0|         0|           0|           0|           0|          0|           0|\n",
      "|        0|          0|           0|          0|           0|              0|            0|          0|         0|           0|           0|           0|          0|           0|\n",
      "|        0|          0|           0|          0|           0|              0|            0|          0|         0|           0|           0|           0|          0|           0|\n",
      "+---------+-----------+------------+-----------+------------+---------------+-------------+-----------+----------+------------+------------+------------+-----------+------------+\n",
      "only showing top 20 rows\n",
      "\n"
     ]
    }
   ],
   "source": [
    "# 각 열 대해 결측치 개수 계산\n",
    "missing_data = comb_df.select([(col(c).isNull()).cast(\"int\").alias(c) for c in comb_df.columns])\n",
    "missing_data.show()"
   ]
  },
  {
   "cell_type": "code",
   "execution_count": 12,
   "id": "28c33222",
   "metadata": {},
   "outputs": [
    {
     "name": "stderr",
     "output_type": "stream",
     "text": [
      "[Stage 10:==================================================>     (10 + 1) / 11]\r"
     ]
    },
    {
     "name": "stdout",
     "output_type": "stream",
     "text": [
      "+-------+-----------------+\n",
      "|summary|     total_amount|\n",
      "+-------+-----------------+\n",
      "|  count|         15000700|\n",
      "|   mean|18.75545205708744|\n",
      "| stddev|145.7442452805979|\n",
      "|    min|           -647.8|\n",
      "|    max|         398469.2|\n",
      "+-------+-----------------+\n",
      "\n"
     ]
    },
    {
     "name": "stderr",
     "output_type": "stream",
     "text": [
      "\r",
      "                                                                                \r"
     ]
    }
   ],
   "source": [
    "# 요금의 요약 확인\n",
    "comb_df.select(\"total_amount\").describe().show()"
   ]
  },
  {
   "cell_type": "markdown",
   "id": "5e09f564",
   "metadata": {},
   "source": [
    "금액이 최솟값이 음수로 측정되는 경우가 생김"
   ]
  },
  {
   "cell_type": "code",
   "execution_count": 13,
   "id": "cc88a156",
   "metadata": {},
   "outputs": [
    {
     "name": "stderr",
     "output_type": "stream",
     "text": [
      "[Stage 13:==================================================>     (10 + 1) / 11]\r"
     ]
    },
    {
     "name": "stdout",
     "output_type": "stream",
     "text": [
      "+-------+-----------------+\n",
      "|summary|    trip_distance|\n",
      "+-------+-----------------+\n",
      "|  count|         15000700|\n",
      "|   mean|6.628629402627818|\n",
      "| stddev|671.7293482115828|\n",
      "|    min|              0.0|\n",
      "|    max|        332541.19|\n",
      "+-------+-----------------+\n",
      "\n"
     ]
    },
    {
     "name": "stderr",
     "output_type": "stream",
     "text": [
      "\r",
      "                                                                                \r"
     ]
    }
   ],
   "source": [
    "# 이동거리\n",
    "comb_df.select(\"trip_distance\").describe().show()"
   ]
  },
  {
   "cell_type": "code",
   "execution_count": 14,
   "id": "d9bd3ef7",
   "metadata": {},
   "outputs": [
    {
     "name": "stderr",
     "output_type": "stream",
     "text": [
      "[Stage 16:==================================================>     (10 + 1) / 11]\r"
     ]
    },
    {
     "name": "stdout",
     "output_type": "stream",
     "text": [
      "+-------+------------------+\n",
      "|summary|   passenger_count|\n",
      "+-------+------------------+\n",
      "|  count|          14166672|\n",
      "|   mean|1.4253783104458126|\n",
      "| stddev|  1.04432704905968|\n",
      "|    min|                 0|\n",
      "|    max|                 9|\n",
      "+-------+------------------+\n",
      "\n"
     ]
    },
    {
     "name": "stderr",
     "output_type": "stream",
     "text": [
      "\r",
      "                                                                                \r"
     ]
    }
   ],
   "source": [
    "# 승객 수\n",
    "comb_df.select(\"passenger_count\").describe().show()"
   ]
  },
  {
   "cell_type": "code",
   "execution_count": 15,
   "id": "f0536f79",
   "metadata": {},
   "outputs": [
    {
     "name": "stderr",
     "output_type": "stream",
     "text": [
      "[Stage 21:=============================>                            (1 + 1) / 2]\r"
     ]
    },
    {
     "name": "stdout",
     "output_type": "stream",
     "text": [
      "+-----------+-----------+\n",
      "|pickup_date|pickup_time|\n",
      "+-----------+-----------+\n",
      "| 2009-01-01|          0|\n",
      "| 2008-12-31|         23|\n",
      "| 2009-01-01|          0|\n",
      "| 2009-01-01|          0|\n",
      "| 2009-01-01|          0|\n",
      "| 2009-01-01|          0|\n",
      "| 2009-01-01|          0|\n",
      "| 2009-01-01|          1|\n",
      "| 2009-01-01|          0|\n",
      "| 2008-12-31|         23|\n",
      "| 2008-12-31|         23|\n",
      "| 2008-12-31|         23|\n",
      "| 2008-12-31|         23|\n",
      "| 2009-01-01|          0|\n",
      "| 2009-01-01|          0|\n",
      "| 2009-01-01|          0|\n",
      "| 2021-08-09|         15|\n",
      "| 2021-08-09|         15|\n",
      "| 2021-08-09|         16|\n",
      "| 2021-08-31|          0|\n",
      "+-----------+-----------+\n",
      "only showing top 20 rows\n",
      "\n"
     ]
    },
    {
     "name": "stderr",
     "output_type": "stream",
     "text": [
      "\r",
      "                                                                                \r"
     ]
    }
   ],
   "source": [
    "query = '''\n",
    "SELECT pickup_date, pickup_time\n",
    "FROM comb_df\n",
    "WHERE pickup_date < '2020-12-31' OR pickup_date > '2021-07-31'\n",
    "'''\n",
    "spark.sql(query).show()"
   ]
  },
  {
   "cell_type": "code",
   "execution_count": 16,
   "id": "e1b15f32",
   "metadata": {},
   "outputs": [
    {
     "name": "stderr",
     "output_type": "stream",
     "text": [
      "[Stage 24:==========================================>           (156 + 2) / 200]\r"
     ]
    },
    {
     "name": "stdout",
     "output_type": "stream",
     "text": [
      "+-------------------+-------+\n",
      "|              month|  trips|\n",
      "+-------------------+-------+\n",
      "|2029-05-01 00:00:00|      1|\n",
      "|2021-12-01 00:00:00|      5|\n",
      "|2021-11-01 00:00:00|      5|\n",
      "|2021-10-01 00:00:00|      3|\n",
      "|2021-09-01 00:00:00|      3|\n",
      "|2021-08-01 00:00:00|     36|\n",
      "|2021-07-01 00:00:00|2821430|\n",
      "|2021-06-01 00:00:00|2834204|\n",
      "|2021-05-01 00:00:00|2507075|\n",
      "|2021-04-01 00:00:00|2171215|\n",
      "|2021-03-01 00:00:00|1925130|\n",
      "|2021-02-01 00:00:00|1371688|\n",
      "|2021-01-01 00:00:00|1369749|\n",
      "|2020-12-01 00:00:00|     16|\n",
      "|2009-01-01 00:00:00|    111|\n",
      "|2008-12-01 00:00:00|     26|\n",
      "|2004-04-01 00:00:00|      1|\n",
      "|2003-01-01 00:00:00|      1|\n",
      "|2002-12-01 00:00:00|      1|\n",
      "+-------------------+-------+\n",
      "\n"
     ]
    },
    {
     "name": "stderr",
     "output_type": "stream",
     "text": [
      "\r",
      "[Stage 24:====================================================> (193 + 2) / 200]\r",
      "\r",
      "                                                                                \r"
     ]
    }
   ],
   "source": [
    "# 월 단위로 데이터를 그룹핑하여 확인한다.\n",
    "query = \"\"\"\n",
    "SELECT\n",
    "     DATE_TRUNC('MM', c.pickup_date) AS month,\n",
    "     COUNT(*) AS trips\n",
    "FROM\n",
    "    comb_df c\n",
    "GROUP BY\n",
    "    month\n",
    "ORDER BY\n",
    "    month desc\n",
    "\"\"\"\n",
    "spark.sql(query).show()"
   ]
  },
  {
   "cell_type": "markdown",
   "id": "24ad6c18",
   "metadata": {},
   "source": [
    "2021년 1~7월 데이터이기 때문에 불필요한 날짜는 삭제할 필요가 있다."
   ]
  },
  {
   "cell_type": "code",
   "execution_count": 17,
   "id": "1557519e",
   "metadata": {},
   "outputs": [],
   "source": [
    "# 전처리 코드\n",
    "query = \"\"\"\n",
    "SELECT\n",
    "    *\n",
    "FROM \n",
    "    comb_df c\n",
    "WHERE\n",
    "    c.total_amount < 5000\n",
    "    AND c.total_amount > 0\n",
    "    AND c.trip_distance < 100\n",
    "    AND c.passenger_count < 5\n",
    "    AND c.pickup_date >= '2021-01-01'\n",
    "    AND c.pickup_date < '2021-08-01'\n",
    "\"\"\"\n",
    "clean_df = spark.sql(query)\n",
    "clean_df.createOrReplaceTempView(\"clean_df\")"
   ]
  },
  {
   "cell_type": "code",
   "execution_count": 18,
   "id": "36fce1a9",
   "metadata": {},
   "outputs": [
    {
     "name": "stderr",
     "output_type": "stream",
     "text": [
      "[Stage 26:==================================================>     (10 + 1) / 11]\r"
     ]
    },
    {
     "name": "stdout",
     "output_type": "stream",
     "text": [
      "+-------+------------------+------------------+------------------+------------------+------------------+------------------+------------------+------------------+------------------+-------------------+--------------------+--------------------+\n",
      "|summary|         vendor_id|       pickup_time|      dropoff_time|   passenger_count|     trip_distance|       fare_amount|        tip_amount|      tolls_amount|      total_amount|       payment_type|         pickup_zone|        dropoff_zone|\n",
      "+-------+------------------+------------------+------------------+------------------+------------------+------------------+------------------+------------------+------------------+-------------------+--------------------+--------------------+\n",
      "|  count|          13498910|          13498910|          13498910|          13498910|          13498910|          13498910|          13498910|          13498910|          13498910|           13498910|            13498910|            13498910|\n",
      "|   mean|1.6724241438753202|14.201617982488957|14.287686190959121|1.2508243998959916| 2.843456607977929|12.178530447272134|2.1886030879535725|0.2716473337474633|18.091414881095858|  1.247556580494277|                null|                null|\n",
      "| stddev|0.4693292351073717| 5.123377318652748| 5.194758200312504| 0.635395541280105|3.6332822258138178|11.024886066692739| 2.580128088909473|1.5455922868635448|13.304546754634584|0.45344995317520653|                null|                null|\n",
      "|    min|                 1|                 0|                 0|                 0|               0.0|              -0.8|               0.0|               0.0|              0.01|                  1|Allerton/Pelham G...|Allerton/Pelham G...|\n",
      "|    max|                 2|                23|                23|                 4|             99.96|            4969.0|             700.0|            956.55|            4973.3|                  5|      Yorkville West|      Yorkville West|\n",
      "+-------+------------------+------------------+------------------+------------------+------------------+------------------+------------------+------------------+------------------+-------------------+--------------------+--------------------+\n",
      "\n"
     ]
    },
    {
     "name": "stderr",
     "output_type": "stream",
     "text": [
      "\r",
      "                                                                                \r"
     ]
    }
   ],
   "source": [
    "clean_df.describe().show(5)"
   ]
  },
  {
   "cell_type": "code",
   "execution_count": 19,
   "id": "c168a928",
   "metadata": {},
   "outputs": [
    {
     "name": "stderr",
     "output_type": "stream",
     "text": [
      "[Stage 29:==================================================>     (10 + 1) / 11]\r"
     ]
    },
    {
     "name": "stdout",
     "output_type": "stream",
     "text": [
      "+-------+------------------+------------------+------------------+------------------+------------------+\n",
      "|summary|      dropoff_time|   passenger_count|     trip_distance|       fare_amount|        tip_amount|\n",
      "+-------+------------------+------------------+------------------+------------------+------------------+\n",
      "|  count|          13498910|          13498910|          13498910|          13498910|          13498910|\n",
      "|   mean|14.287686190959121|1.2508243998959916| 2.843456607977929|12.178530447272134|2.1886030879535725|\n",
      "| stddev| 5.194758200312504| 0.635395541280105|3.6332822258138178|11.024886066692739| 2.580128088909473|\n",
      "|    min|                 0|                 0|               0.0|              -0.8|               0.0|\n",
      "|    max|                23|                 4|             99.96|            4969.0|             700.0|\n",
      "+-------+------------------+------------------+------------------+------------------+------------------+\n",
      "\n"
     ]
    },
    {
     "name": "stderr",
     "output_type": "stream",
     "text": [
      "\r",
      "                                                                                \r"
     ]
    }
   ],
   "source": [
    "clean_df.select(\"dropoff_time\", \"passenger_count\", \"trip_distance\", 'fare_amount', 'tip_amount').describe().show()"
   ]
  },
  {
   "cell_type": "markdown",
   "id": "9d489892",
   "metadata": {},
   "source": [
    "# 시간대별 탑승 분석\n",
    "## 목표: 특정 시간대에 얼마나 많은 택시 승차가 발생하는지 분석.\n",
    "## 탑승 시간 (pickup_time)에 따른 택시 승차 횟수를 그래프로 표시.\n",
    "그래프는 출근 시간(7시9시)과 퇴근 시간(17시19시)에 택시 승차 수요가 급증하는 경향을 보입니다.<br>\n",
    "반면, 심야 시간대와 새벽 시간대에는 승차 횟수가 적어, 택시의 수요가 낮다는 것을 알 수 있습니다.<br>\n",
    "이러한 분석은 택시 회사나 교통 관리자가 시간대별로 운행 스케줄을 최적화하는 데 도움이 될 수 있습니다.<br>"
   ]
  },
  {
   "cell_type": "code",
   "execution_count": 24,
   "id": "edd3500e",
   "metadata": {},
   "outputs": [],
   "source": [
    "query = \"\"\"\n",
    "SELECT pickup_time, COUNT(*) AS trip_count\n",
    "FROM clean_df\n",
    "GROUP BY pickup_time\n",
    "ORDER BY pickup_time;\n",
    "\"\"\"\n",
    "# spark.sql(query).show()"
   ]
  },
  {
   "cell_type": "code",
   "execution_count": 30,
   "id": "daa2e40a",
   "metadata": {},
   "outputs": [
    {
     "name": "stderr",
     "output_type": "stream",
     "text": [
      "                                                                                \r"
     ]
    },
    {
     "ename": "KeyError",
     "evalue": "'pickup_time'",
     "output_type": "error",
     "traceback": [
      "\u001b[0;31m---------------------------------------------------------------------------\u001b[0m",
      "\u001b[0;31mKeyError\u001b[0m                                  Traceback (most recent call last)",
      "File \u001b[0;32m/home/ubuntu/anaconda3/envs/spark/lib/python3.8/site-packages/pandas/core/indexes/base.py:3653\u001b[0m, in \u001b[0;36mIndex.get_loc\u001b[0;34m(self, key)\u001b[0m\n\u001b[1;32m   3652\u001b[0m \u001b[38;5;28;01mtry\u001b[39;00m:\n\u001b[0;32m-> 3653\u001b[0m     \u001b[38;5;28;01mreturn\u001b[39;00m \u001b[38;5;28;43mself\u001b[39;49m\u001b[38;5;241;43m.\u001b[39;49m\u001b[43m_engine\u001b[49m\u001b[38;5;241;43m.\u001b[39;49m\u001b[43mget_loc\u001b[49m\u001b[43m(\u001b[49m\u001b[43mcasted_key\u001b[49m\u001b[43m)\u001b[49m\n\u001b[1;32m   3654\u001b[0m \u001b[38;5;28;01mexcept\u001b[39;00m \u001b[38;5;167;01mKeyError\u001b[39;00m \u001b[38;5;28;01mas\u001b[39;00m err:\n",
      "File \u001b[0;32m/home/ubuntu/anaconda3/envs/spark/lib/python3.8/site-packages/pandas/_libs/index.pyx:147\u001b[0m, in \u001b[0;36mpandas._libs.index.IndexEngine.get_loc\u001b[0;34m()\u001b[0m\n",
      "File \u001b[0;32m/home/ubuntu/anaconda3/envs/spark/lib/python3.8/site-packages/pandas/_libs/index.pyx:176\u001b[0m, in \u001b[0;36mpandas._libs.index.IndexEngine.get_loc\u001b[0;34m()\u001b[0m\n",
      "File \u001b[0;32mpandas/_libs/hashtable_class_helper.pxi:7080\u001b[0m, in \u001b[0;36mpandas._libs.hashtable.PyObjectHashTable.get_item\u001b[0;34m()\u001b[0m\n",
      "File \u001b[0;32mpandas/_libs/hashtable_class_helper.pxi:7088\u001b[0m, in \u001b[0;36mpandas._libs.hashtable.PyObjectHashTable.get_item\u001b[0;34m()\u001b[0m\n",
      "\u001b[0;31mKeyError\u001b[0m: 'pickup_time'",
      "\nThe above exception was the direct cause of the following exception:\n",
      "\u001b[0;31mKeyError\u001b[0m                                  Traceback (most recent call last)",
      "Cell \u001b[0;32mIn[30], line 15\u001b[0m\n\u001b[1;32m     13\u001b[0m \u001b[38;5;66;03m# 시각화\u001b[39;00m\n\u001b[1;32m     14\u001b[0m plt\u001b[38;5;241m.\u001b[39mfigure(figsize\u001b[38;5;241m=\u001b[39m(\u001b[38;5;241m10\u001b[39m, \u001b[38;5;241m6\u001b[39m))\n\u001b[0;32m---> 15\u001b[0m plt\u001b[38;5;241m.\u001b[39mplot(\u001b[43mdf\u001b[49m\u001b[43m[\u001b[49m\u001b[38;5;124;43m'\u001b[39;49m\u001b[38;5;124;43mpickup_time\u001b[39;49m\u001b[38;5;124;43m'\u001b[39;49m\u001b[43m]\u001b[49m, df[\u001b[38;5;124m'\u001b[39m\u001b[38;5;124mtrip_count\u001b[39m\u001b[38;5;124m'\u001b[39m], marker\u001b[38;5;241m=\u001b[39m\u001b[38;5;124m'\u001b[39m\u001b[38;5;124mo\u001b[39m\u001b[38;5;124m'\u001b[39m, linestyle\u001b[38;5;241m=\u001b[39m\u001b[38;5;124m'\u001b[39m\u001b[38;5;124m-\u001b[39m\u001b[38;5;124m'\u001b[39m, color\u001b[38;5;241m=\u001b[39m\u001b[38;5;124m'\u001b[39m\u001b[38;5;124mb\u001b[39m\u001b[38;5;124m'\u001b[39m)\n\u001b[1;32m     16\u001b[0m plt\u001b[38;5;241m.\u001b[39mtitle(\u001b[38;5;124m'\u001b[39m\u001b[38;5;124mTaxi Pickup Pattern by Hour\u001b[39m\u001b[38;5;124m'\u001b[39m, fontsize\u001b[38;5;241m=\u001b[39m\u001b[38;5;241m16\u001b[39m)\n\u001b[1;32m     17\u001b[0m plt\u001b[38;5;241m.\u001b[39mxlabel(\u001b[38;5;124m'\u001b[39m\u001b[38;5;124mPickup Time (Hour)\u001b[39m\u001b[38;5;124m'\u001b[39m, fontsize\u001b[38;5;241m=\u001b[39m\u001b[38;5;241m12\u001b[39m)\n",
      "File \u001b[0;32m/home/ubuntu/anaconda3/envs/spark/lib/python3.8/site-packages/pandas/core/frame.py:3761\u001b[0m, in \u001b[0;36mDataFrame.__getitem__\u001b[0;34m(self, key)\u001b[0m\n\u001b[1;32m   3759\u001b[0m \u001b[38;5;28;01mif\u001b[39;00m \u001b[38;5;28mself\u001b[39m\u001b[38;5;241m.\u001b[39mcolumns\u001b[38;5;241m.\u001b[39mnlevels \u001b[38;5;241m>\u001b[39m \u001b[38;5;241m1\u001b[39m:\n\u001b[1;32m   3760\u001b[0m     \u001b[38;5;28;01mreturn\u001b[39;00m \u001b[38;5;28mself\u001b[39m\u001b[38;5;241m.\u001b[39m_getitem_multilevel(key)\n\u001b[0;32m-> 3761\u001b[0m indexer \u001b[38;5;241m=\u001b[39m \u001b[38;5;28;43mself\u001b[39;49m\u001b[38;5;241;43m.\u001b[39;49m\u001b[43mcolumns\u001b[49m\u001b[38;5;241;43m.\u001b[39;49m\u001b[43mget_loc\u001b[49m\u001b[43m(\u001b[49m\u001b[43mkey\u001b[49m\u001b[43m)\u001b[49m\n\u001b[1;32m   3762\u001b[0m \u001b[38;5;28;01mif\u001b[39;00m is_integer(indexer):\n\u001b[1;32m   3763\u001b[0m     indexer \u001b[38;5;241m=\u001b[39m [indexer]\n",
      "File \u001b[0;32m/home/ubuntu/anaconda3/envs/spark/lib/python3.8/site-packages/pandas/core/indexes/base.py:3655\u001b[0m, in \u001b[0;36mIndex.get_loc\u001b[0;34m(self, key)\u001b[0m\n\u001b[1;32m   3653\u001b[0m     \u001b[38;5;28;01mreturn\u001b[39;00m \u001b[38;5;28mself\u001b[39m\u001b[38;5;241m.\u001b[39m_engine\u001b[38;5;241m.\u001b[39mget_loc(casted_key)\n\u001b[1;32m   3654\u001b[0m \u001b[38;5;28;01mexcept\u001b[39;00m \u001b[38;5;167;01mKeyError\u001b[39;00m \u001b[38;5;28;01mas\u001b[39;00m err:\n\u001b[0;32m-> 3655\u001b[0m     \u001b[38;5;28;01mraise\u001b[39;00m \u001b[38;5;167;01mKeyError\u001b[39;00m(key) \u001b[38;5;28;01mfrom\u001b[39;00m \u001b[38;5;21;01merr\u001b[39;00m\n\u001b[1;32m   3656\u001b[0m \u001b[38;5;28;01mexcept\u001b[39;00m \u001b[38;5;167;01mTypeError\u001b[39;00m:\n\u001b[1;32m   3657\u001b[0m     \u001b[38;5;66;03m# If we have a listlike key, _check_indexing_error will raise\u001b[39;00m\n\u001b[1;32m   3658\u001b[0m     \u001b[38;5;66;03m#  InvalidIndexError. Otherwise we fall through and re-raise\u001b[39;00m\n\u001b[1;32m   3659\u001b[0m     \u001b[38;5;66;03m#  the TypeError.\u001b[39;00m\n\u001b[1;32m   3660\u001b[0m     \u001b[38;5;28mself\u001b[39m\u001b[38;5;241m.\u001b[39m_check_indexing_error(key)\n",
      "\u001b[0;31mKeyError\u001b[0m: 'pickup_time'"
     ]
    },
    {
     "data": {
      "text/plain": [
       "<Figure size 1000x600 with 0 Axes>"
      ]
     },
     "metadata": {},
     "output_type": "display_data"
    }
   ],
   "source": [
    "import matplotlib.pyplot as plt\n",
    "import numpy as np\n",
    "import pandas as pd\n",
    "import seaborn as sns\n",
    "import matplotlib.pyplot as plt\n",
    "import matplotlib.dates as mdates\n",
    "# SQL 쿼리 실행 결과를 query_result에 저장\n",
    "query_result = spark.sql(query)\n",
    "\n",
    "# 결과를 Pandas DataFrame으로 변환\n",
    "df = query_result.toPandas()\n",
    "\n",
    "# 시각화\n",
    "plt.figure(figsize=(10, 6))\n",
    "plt.plot(df['pickup_time'], df['trip_count'], marker='o', linestyle='-', color='b')\n",
    "plt.title('Taxi Pickup Pattern by Hour', fontsize=16)\n",
    "plt.xlabel('Pickup Time (Hour)', fontsize=12)\n",
    "plt.ylabel('Number of Trips', fontsize=12)\n",
    "plt.xticks(rotation=45)\n",
    "plt.grid(True)\n",
    "plt.tight_layout()\n",
    "\n",
    "# 그래프 출력\n",
    "plt.show()"
   ]
  },
  {
   "cell_type": "markdown",
   "id": "72389135",
   "metadata": {},
   "source": [
    "# 승객 수에 따른 여행 통계\n",
    "## 목표: 승객 수별로 여행의 특성을 분석 (예: 총 금액(avg_total_amount), 거리(avg_trip_distance), 팁 등).\n",
    "## 승객 수에 따른 평균 여행 거리, 총 금액 등을 비교하는 그래프.\n",
    "승객 수가 증가함에 따라 평균 이동 거리와 평균 총 금액이 모두 증가하지만, 총 금액의 증가율이 더 크다는 점을 확인할 수 있습니다.<br>\n",
    "이는 승객 수가 많을수록 더 긴 거리로 이동하거나 더 많은 비용이 발생하는 경향이 있음을 나타냅니다.\n"
   ]
  },
  {
   "cell_type": "code",
   "execution_count": 29,
   "id": "53f49c42",
   "metadata": {},
   "outputs": [
    {
     "name": "stdout",
     "output_type": "stream",
     "text": [
      "Collecting seaborn\n",
      "  Downloading seaborn-0.13.2-py3-none-any.whl.metadata (5.4 kB)\n",
      "Requirement already satisfied: numpy!=1.24.0,>=1.20 in /home/ubuntu/anaconda3/envs/spark/lib/python3.8/site-packages (from seaborn) (1.24.4)\n",
      "Requirement already satisfied: pandas>=1.2 in /home/ubuntu/anaconda3/envs/spark/lib/python3.8/site-packages (from seaborn) (2.0.3)\n",
      "Requirement already satisfied: matplotlib!=3.6.1,>=3.4 in /home/ubuntu/anaconda3/envs/spark/lib/python3.8/site-packages (from seaborn) (3.7.5)\n",
      "Requirement already satisfied: contourpy>=1.0.1 in /home/ubuntu/anaconda3/envs/spark/lib/python3.8/site-packages (from matplotlib!=3.6.1,>=3.4->seaborn) (1.1.1)\n",
      "Requirement already satisfied: cycler>=0.10 in /home/ubuntu/anaconda3/envs/spark/lib/python3.8/site-packages (from matplotlib!=3.6.1,>=3.4->seaborn) (0.12.1)\n",
      "Requirement already satisfied: fonttools>=4.22.0 in /home/ubuntu/anaconda3/envs/spark/lib/python3.8/site-packages (from matplotlib!=3.6.1,>=3.4->seaborn) (4.55.2)\n",
      "Requirement already satisfied: kiwisolver>=1.0.1 in /home/ubuntu/anaconda3/envs/spark/lib/python3.8/site-packages (from matplotlib!=3.6.1,>=3.4->seaborn) (1.4.7)\n",
      "Requirement already satisfied: packaging>=20.0 in /home/ubuntu/anaconda3/envs/spark/lib/python3.8/site-packages (from matplotlib!=3.6.1,>=3.4->seaborn) (24.2)\n",
      "Requirement already satisfied: pillow>=6.2.0 in /home/ubuntu/anaconda3/envs/spark/lib/python3.8/site-packages (from matplotlib!=3.6.1,>=3.4->seaborn) (10.4.0)\n",
      "Requirement already satisfied: pyparsing>=2.3.1 in /home/ubuntu/anaconda3/envs/spark/lib/python3.8/site-packages (from matplotlib!=3.6.1,>=3.4->seaborn) (3.1.4)\n",
      "Requirement already satisfied: python-dateutil>=2.7 in /home/ubuntu/anaconda3/envs/spark/lib/python3.8/site-packages (from matplotlib!=3.6.1,>=3.4->seaborn) (2.9.0.post0)\n",
      "Requirement already satisfied: importlib-resources>=3.2.0 in /home/ubuntu/anaconda3/envs/spark/lib/python3.8/site-packages (from matplotlib!=3.6.1,>=3.4->seaborn) (6.4.5)\n",
      "Requirement already satisfied: pytz>=2020.1 in /home/ubuntu/anaconda3/envs/spark/lib/python3.8/site-packages (from pandas>=1.2->seaborn) (2024.2)\n",
      "Requirement already satisfied: tzdata>=2022.1 in /home/ubuntu/anaconda3/envs/spark/lib/python3.8/site-packages (from pandas>=1.2->seaborn) (2024.2)\n",
      "Requirement already satisfied: zipp>=3.1.0 in /home/ubuntu/anaconda3/envs/spark/lib/python3.8/site-packages (from importlib-resources>=3.2.0->matplotlib!=3.6.1,>=3.4->seaborn) (3.20.2)\n",
      "Requirement already satisfied: six>=1.5 in /home/ubuntu/anaconda3/envs/spark/lib/python3.8/site-packages (from python-dateutil>=2.7->matplotlib!=3.6.1,>=3.4->seaborn) (1.16.0)\n",
      "Downloading seaborn-0.13.2-py3-none-any.whl (294 kB)\n",
      "Installing collected packages: seaborn\n",
      "Successfully installed seaborn-0.13.2\n"
     ]
    }
   ],
   "source": [
    "!pip install seaborn"
   ]
  },
  {
   "cell_type": "code",
   "execution_count": 26,
   "id": "641b15b8",
   "metadata": {},
   "outputs": [],
   "source": [
    "query = \"\"\"\n",
    "SELECT passenger_count, AVG(trip_distance) AS avg_trip_distance, AVG(total_amount) AS avg_total_amount\n",
    "FROM clean_df\n",
    "GROUP BY passenger_count\n",
    "ORDER BY passenger_count;\n",
    "\"\"\"\n",
    "# spark.sql(query).show()"
   ]
  },
  {
   "cell_type": "code",
   "execution_count": 27,
   "id": "b5154c4b",
   "metadata": {},
   "outputs": [
    {
     "name": "stderr",
     "output_type": "stream",
     "text": [
      "                                                                                \r"
     ]
    },
    {
     "data": {
      "image/png": "[encoded data removed]",
      "text/plain": [
       "<Figure size 1000x600 with 1 Axes>"
      ]
     },
     "metadata": {},
     "output_type": "display_data"
    }
   ],
   "source": [
    "result = spark.sql(query)\n",
    "\n",
    "df = result.toPandas()\n",
    "\n",
    "plt.figure(figsize=(10, 6))\n",
    "\n",
    "# 평균 이동 거리 (avg_trip_distance)\n",
    "plt.plot(df['passenger_count'], df['avg_trip_distance'], marker='o', linestyle='-', color='b', label='Average Trip Distance')\n",
    "\n",
    "# 평균 총 금액 (avg_total_amount)\n",
    "plt.plot(df['passenger_count'], df['avg_total_amount'], marker='o', linestyle='-', color='r', label='Average Total Amount')\n",
    "\n",
    "# 그래프 제목 및 레이블\n",
    "plt.title('Average Trip Distance and Total Amount by Passenger Count', fontsize=16)\n",
    "plt.xlabel('Passenger Count', fontsize=12)\n",
    "plt.ylabel('Value', fontsize=12)\n",
    "plt.xticks(df['passenger_count'])  # 승객 수 값에 맞춰 x축 레이블 표시\n",
    "plt.legend()\n",
    "\n",
    "# 그래프 출력\n",
    "plt.grid(True)\n",
    "plt.tight_layout()\n",
    "plt.show()"
   ]
  },
  {
   "cell_type": "markdown",
   "id": "4ae317ff",
   "metadata": {},
   "source": [
    "# 일 별 운행수\n",
    "이 선 그래프를 통해, 날짜별 택시 이용량의 변화를 관찰할 수 있으며, 이를 통해 특정 날짜에 택시 이용이 급증하거나 감소하는 이유를 파악할 수 있습니다."
   ]
  },
  {
   "cell_type": "code",
   "execution_count": 32,
   "id": "427d39e8",
   "metadata": {},
   "outputs": [
    {
     "name": "stderr",
     "output_type": "stream",
     "text": [
      "                                                                                \r"
     ]
    },
    {
     "data": {
      "text/plain": [
       "<Axes: xlabel='pickup_date', ylabel='trips'>"
      ]
     },
     "execution_count": 32,
     "metadata": {},
     "output_type": "execute_result"
    },
    {
     "data": {
      "image/png": "[encoded data removed]",
      "text/plain": [
       "<Figure size 1600x600 with 1 Axes>"
      ]
     },
     "metadata": {},
     "output_type": "display_data"
    }
   ],
   "source": [
    "query = \"\"\"\n",
    "SELECT \n",
    "    c.pickup_date,\n",
    "    COUNT(*) AS trips\n",
    "FROM\n",
    "    clean_df c\n",
    "GROUP BY\n",
    "    c.pickup_date\n",
    "\"\"\"\n",
    "pd_df = spark.sql(query).toPandas()\n",
    "\n",
    "fig, ax = plt.subplots(figsize=(16, 6))\n",
    "sns.lineplot(x=\"pickup_date\", y=\"trips\", data=pd_df)"
   ]
  },
  {
   "cell_type": "markdown",
   "id": "b9b5c8d9",
   "metadata": {},
   "source": [
    "# 요일 별 운행 수\n",
    "주말보다 평일이 택시 운행량이 많은 것을 볼 수 잇다."
   ]
  },
  {
   "cell_type": "code",
   "execution_count": 36,
   "id": "6dee5dc7",
   "metadata": {},
   "outputs": [
    {
     "name": "stderr",
     "output_type": "stream",
     "text": [
      "                                                                                \r"
     ]
    }
   ],
   "source": [
    "query = \"\"\"\n",
    "SELECT \n",
    "    c.pickup_date,\n",
    "    DATE_FORMAT(c.pickup_date, 'EEEE') AS day_of_week,\n",
    "    COUNT(*) AS trips\n",
    "FROM\n",
    "    clean_df c\n",
    "GROUP BY\n",
    "    c.pickup_date,\n",
    "    day_of_week\n",
    "\"\"\"\n",
    "pd_df2 = spark.sql(query).toPandas()"
   ]
  },
  {
   "cell_type": "code",
   "execution_count": 37,
   "id": "2b07e067",
   "metadata": {},
   "outputs": [
    {
     "data": {
      "text/html": [
       "<div>\n",
       "<style scoped>\n",
       "    .dataframe tbody tr th:only-of-type {\n",
       "        vertical-align: middle;\n",
       "    }\n",
       "\n",
       "    .dataframe tbody tr th {\n",
       "        vertical-align: top;\n",
       "    }\n",
       "\n",
       "    .dataframe thead th {\n",
       "        text-align: right;\n",
       "    }\n",
       "</style>\n",
       "<table border=\"1\" class=\"dataframe\">\n",
       "  <thead>\n",
       "    <tr style=\"text-align: right;\">\n",
       "      <th></th>\n",
       "      <th>day_of_week</th>\n",
       "      <th>trips</th>\n",
       "      <th>sort_dow</th>\n",
       "    </tr>\n",
       "  </thead>\n",
       "  <tbody>\n",
       "    <tr>\n",
       "      <th>3</th>\n",
       "      <td>Sunday</td>\n",
       "      <td>43748.5</td>\n",
       "      <td>0</td>\n",
       "    </tr>\n",
       "    <tr>\n",
       "      <th>1</th>\n",
       "      <td>Monday</td>\n",
       "      <td>57165.0</td>\n",
       "      <td>1</td>\n",
       "    </tr>\n",
       "    <tr>\n",
       "      <th>5</th>\n",
       "      <td>Tuesday</td>\n",
       "      <td>67613.5</td>\n",
       "      <td>2</td>\n",
       "    </tr>\n",
       "    <tr>\n",
       "      <th>6</th>\n",
       "      <td>Wednesday</td>\n",
       "      <td>70195.5</td>\n",
       "      <td>3</td>\n",
       "    </tr>\n",
       "    <tr>\n",
       "      <th>4</th>\n",
       "      <td>Thursday</td>\n",
       "      <td>73011.0</td>\n",
       "      <td>4</td>\n",
       "    </tr>\n",
       "    <tr>\n",
       "      <th>0</th>\n",
       "      <td>Friday</td>\n",
       "      <td>74073.0</td>\n",
       "      <td>5</td>\n",
       "    </tr>\n",
       "    <tr>\n",
       "      <th>2</th>\n",
       "      <td>Saturday</td>\n",
       "      <td>62455.0</td>\n",
       "      <td>6</td>\n",
       "    </tr>\n",
       "  </tbody>\n",
       "</table>\n",
       "</div>"
      ],
      "text/plain": [
       "  day_of_week    trips  sort_dow\n",
       "3      Sunday  43748.5         0\n",
       "1      Monday  57165.0         1\n",
       "5     Tuesday  67613.5         2\n",
       "6   Wednesday  70195.5         3\n",
       "4    Thursday  73011.0         4\n",
       "0      Friday  74073.0         5\n",
       "2    Saturday  62455.0         6"
      ]
     },
     "execution_count": 37,
     "metadata": {},
     "output_type": "execute_result"
    }
   ],
   "source": [
    "# 요일 별 정렬을 위해 컬럼을 하나 만든다.\n",
    "data = pd_df2.groupby(\"day_of_week\").trips.median().to_frame().reset_index()\n",
    "data[\"sort_dow\"] = data[\"day_of_week\"].replace({\n",
    "    \"Sunday\": 0,\n",
    "    \"Monday\": 1,\n",
    "    \"Tuesday\": 2,\n",
    "    \"Wednesday\": 3,\n",
    "    \"Thursday\": 4,\n",
    "    \"Friday\": 5,\n",
    "    \"Saturday\": 6,\n",
    "})\n",
    "\n",
    "\n",
    "data.sort_values(by=\"sort_dow\", inplace=True)\n",
    "data"
   ]
  },
  {
   "cell_type": "code",
   "execution_count": 38,
   "id": "f15e36bb",
   "metadata": {},
   "outputs": [
    {
     "data": {
      "text/plain": [
       "<Axes: xlabel='day_of_week', ylabel='trips'>"
      ]
     },
     "execution_count": 38,
     "metadata": {},
     "output_type": "execute_result"
    },
    {
     "data": {
      "image/png": "[encoded data removed]",
      "text/plain": [
       "<Figure size 1200x500 with 1 Axes>"
      ]
     },
     "metadata": {},
     "output_type": "display_data"
    }
   ],
   "source": [
    "fig, ax = plt.subplots(figsize=(12, 5))\n",
    "sns.barplot(\n",
    "    x=\"day_of_week\",\n",
    "    y=\"trips\",\n",
    "    data=data\n",
    ")"
   ]
  },
  {
   "cell_type": "markdown",
   "id": "7370cff2",
   "metadata": {},
   "source": [
    "# 결제 타입 패턴\n",
    "신용 카드로 결제한게 제일 많은 것을 확인 할 수 있었다."
   ]
  },
  {
   "cell_type": "code",
   "execution_count": 40,
   "id": "588305c7",
   "metadata": {},
   "outputs": [],
   "source": [
    "payment_type_to_string = {\n",
    "    1: \"Credit Card\",\n",
    "    2: \"Cash\",\n",
    "    3: \"No Charge\",   # 계산되지 않음\n",
    "    4: \"Dispute\",     # 분쟁이 있었음\n",
    "    5: \"Unknown\",\n",
    "    6: \"Voided Trip\", # 취소된 운행\n",
    "}"
   ]
  },
  {
   "cell_type": "code",
   "execution_count": 41,
   "id": "6b191d45",
   "metadata": {},
   "outputs": [
    {
     "name": "stderr",
     "output_type": "stream",
     "text": [
      "24/12/18 14:54:00 WARN SimpleFunctionRegistry: The function parse_payment_type replaced a previously registered function.\n"
     ]
    },
    {
     "data": {
      "text/plain": [
       "<function __main__.parse_payment_type(payment_type)>"
      ]
     },
     "execution_count": 41,
     "metadata": {},
     "output_type": "execute_result"
    }
   ],
   "source": [
    "def parse_payment_type(payment_type):\n",
    "    return payment_type_to_string[payment_type]\n",
    "\n",
    "spark.udf.register(\"parse_payment_type\", parse_payment_type)\n"
   ]
  },
  {
   "cell_type": "code",
   "execution_count": 42,
   "id": "aa0bf313",
   "metadata": {},
   "outputs": [
    {
     "name": "stderr",
     "output_type": "stream",
     "text": [
      "[Stage 88:====================================>                   (49 + 2) / 75]\r"
     ]
    },
    {
     "name": "stdout",
     "output_type": "stream",
     "text": [
      "+--------------------------------+--------+------------------+------------------+\n",
      "|parse_payment_type(payment_type)|   trips|  mean_fare_amount| stdev_fare_amount|\n",
      "+--------------------------------+--------+------------------+------------------+\n",
      "|                     Credit Card|10263923| 12.22907173114956|10.829240060683142|\n",
      "|                       No Charge|   59144|11.978743067766809| 15.07571096506127|\n",
      "|                         Unknown|       1|              17.8|              null|\n",
      "|                         Dispute|   23805|12.701679479101026|14.234437019540003|\n",
      "|                            Cash| 3152037| 12.01374976562773|11.525480006779633|\n",
      "+--------------------------------+--------+------------------+------------------+\n",
      "\n"
     ]
    },
    {
     "name": "stderr",
     "output_type": "stream",
     "text": [
      "\r",
      "[Stage 88:==============================================>         (62 + 2) / 75]\r",
      "\r",
      "                                                                                \r"
     ]
    }
   ],
   "source": [
    "query = \"\"\"\n",
    "SELECT \n",
    "    parse_payment_type(payment_type),\n",
    "    count(*) AS trips,\n",
    "    MEAN(fare_amount) AS mean_fare_amount,\n",
    "    STD(fare_amount) AS stdev_fare_amount\n",
    "FROM\n",
    "    clean_df\n",
    "GROUP BY\n",
    "    payment_type\n",
    "\"\"\"\n",
    "\n",
    "spark.sql(query).show()"
   ]
  },
  {
   "cell_type": "code",
   "execution_count": 43,
   "id": "4e0f36fb",
   "metadata": {},
   "outputs": [],
   "source": [
    "spark.stop()"
   ]
  },
  {
   "cell_type": "code",
   "execution_count": null,
   "id": "8f1d47b6",
   "metadata": {},
   "outputs": [],
   "source": []
  },
  {
   "cell_type": "code",
   "execution_count": null,
   "id": "82267d96",
   "metadata": {},
   "outputs": [],
   "source": []
  },
  {
   "cell_type": "code",
   "execution_count": null,
   "id": "d30aeeb7",
   "metadata": {},
   "outputs": [],
   "source": []
  },
  {
   "cell_type": "code",
   "execution_count": null,
   "id": "69157009",
   "metadata": {},
   "outputs": [],
   "source": []
  },
  {
   "cell_type": "code",
   "execution_count": null,
   "id": "044e934d",
   "metadata": {},
   "outputs": [],
   "source": []
  },
  {
   "cell_type": "code",
   "execution_count": null,
   "id": "a1a57459",
   "metadata": {},
   "outputs": [],
   "source": []
  },
  {
   "cell_type": "code",
   "execution_count": null,
   "id": "b52977dd",
   "metadata": {},
   "outputs": [],
   "source": []
  },
  {
   "cell_type": "code",
   "execution_count": null,
   "id": "684b5ba1",
   "metadata": {},
   "outputs": [],
   "source": []
  },
  {
   "cell_type": "code",
   "execution_count": null,
   "id": "022a3408",
   "metadata": {},
   "outputs": [],
   "source": []
  },
  {
   "cell_type": "code",
   "execution_count": null,
   "id": "c68c3227",
   "metadata": {},
   "outputs": [],
   "source": []
  },
  {
   "cell_type": "code",
   "execution_count": null,
   "id": "6af92cdd",
   "metadata": {},
   "outputs": [],
   "source": []
  },
  {
   "cell_type": "code",
   "execution_count": null,
   "id": "9d2260bf",
   "metadata": {},
   "outputs": [],
   "source": []
  },
  {
   "cell_type": "code",
   "execution_count": null,
   "id": "f1afa0af",
   "metadata": {},
   "outputs": [],
   "source": []
  },
  {
   "cell_type": "code",
   "execution_count": null,
   "id": "4b3608a0",
   "metadata": {},
   "outputs": [],
   "source": []
  },
  {
   "cell_type": "code",
   "execution_count": null,
   "id": "61ee25ea",
   "metadata": {},
   "outputs": [],
   "source": []
  },
  {
   "cell_type": "code",
   "execution_count": null,
   "id": "5ae560fc",
   "metadata": {},
   "outputs": [],
   "source": []
  },
  {
   "cell_type": "code",
   "execution_count": null,
   "id": "bf7538a5",
   "metadata": {},
   "outputs": [],
   "source": []
  },
  {
   "cell_type": "code",
   "execution_count": null,
   "id": "38b37abb",
   "metadata": {},
   "outputs": [],
   "source": []
  },
  {
   "cell_type": "code",
   "execution_count": null,
   "id": "246a07e3",
   "metadata": {},
   "outputs": [],
   "source": []
  },
  {
   "cell_type": "code",
   "execution_count": null,
   "id": "84616159",
   "metadata": {},
   "outputs": [],
   "source": []
  },
  {
   "cell_type": "code",
   "execution_count": null,
   "id": "033f96ea",
   "metadata": {},
   "outputs": [],
   "source": []
  },
  {
   "cell_type": "code",
   "execution_count": null,
   "id": "c6f87bc7",
   "metadata": {},
   "outputs": [],
   "source": []
  },
  {
   "cell_type": "code",
   "execution_count": null,
   "id": "5d0488cf",
   "metadata": {},
   "outputs": [],
   "source": []
  },
  {
   "cell_type": "code",
   "execution_count": null,
   "id": "0f04343c",
   "metadata": {},
   "outputs": [],
   "source": []
  },
  {
   "cell_type": "code",
   "execution_count": null,
   "id": "66fe33ca",
   "metadata": {},
   "outputs": [],
   "source": []
  },
  {
   "cell_type": "code",
   "execution_count": null,
   "id": "242bf66c",
   "metadata": {},
   "outputs": [],
   "source": []
  },
  {
   "cell_type": "code",
   "execution_count": null,
   "id": "c7d051ca",
   "metadata": {},
   "outputs": [],
   "source": []
  }
 ],
 "metadata": {
  "kernelspec": {
   "display_name": "Python (spark)",
   "language": "python",
   "name": "spark"
  },
  "language_info": {
   "codemirror_mode": {
    "name": "ipython",
    "version": 3
   },
   "file_extension": ".py",
   "mimetype": "text/x-python",
   "name": "python",
   "nbconvert_exporter": "python",
   "pygments_lexer": "ipython3",
   "version": "3.8.20"
  }
 },
 "nbformat": 4,
 "nbformat_minor": 5
}
