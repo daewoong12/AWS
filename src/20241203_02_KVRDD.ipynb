{
 "cells": [
  {
   "cell_type": "code",
   "execution_count": 1,
   "id": "8c38ec08",
   "metadata": {},
   "outputs": [
    {
     "name": "stderr",
     "output_type": "stream",
     "text": [
      "24/12/04 11:02:59 WARN NativeCodeLoader: Unable to load native-hadoop library for your platform... using builtin-java classes where applicable\n",
      "Using Spark's default log4j profile: org/apache/spark/log4j-defaults.properties\n",
      "Setting default log level to \"WARN\".\n",
      "To adjust logging level use sc.setLogLevel(newLevel). For SparkR, use setLogLevel(newLevel).\n"
     ]
    }
   ],
   "source": [
    "from pyspark import SparkConf, SparkContext\n",
    "# 스파크 환경 설정 객체 생성\n",
    "conf = SparkConf().setMaster('local').setAppName('restaurant-review-average')\n",
    "spark = SparkContext(conf=conf).getOrCreate()"
   ]
  },
  {
   "cell_type": "code",
   "execution_count": 2,
   "id": "6d9fda74",
   "metadata": {},
   "outputs": [],
   "source": [
    "import os\n",
    "directory = os.path.join(os.getcwd(), 'data')\n",
    "filename = 'restaurant_reviews.csv'\n",
    "filepath = os.path.join(directory, filename)"
   ]
  },
  {
   "cell_type": "code",
   "execution_count": 3,
   "id": "435a3e63",
   "metadata": {},
   "outputs": [
    {
     "name": "stderr",
     "output_type": "stream",
     "text": [
      "                                                                                \r"
     ]
    },
    {
     "data": {
      "text/plain": [
       "['id,item,cateogry,reviews,',\n",
       " '0,짜장면,중식,125,',\n",
       " '1,짬뽕,중식,235,',\n",
       " '2,김밥,분식,32,',\n",
       " '3,떡볶이,분식,534,']"
      ]
     },
     "execution_count": 3,
     "metadata": {},
     "output_type": "execute_result"
    }
   ],
   "source": [
    "# RDD 생성\n",
    "lines = spark.textFile('file:///'+filepath.replace('\\\\', '/'))\n",
    "lines.take(5)"
   ]
  },
  {
   "cell_type": "code",
   "execution_count": 4,
   "id": "c532d8f4",
   "metadata": {},
   "outputs": [],
   "source": [
    "header = lines.first()\n",
    "filtered_lines = lines.filter(lambda row : row != header)"
   ]
  },
  {
   "cell_type": "code",
   "execution_count": 5,
   "id": "52a546d9",
   "metadata": {},
   "outputs": [
    {
     "data": {
      "text/plain": [
       "['0,짜장면,중식,125,',\n",
       " '1,짬뽕,중식,235,',\n",
       " '2,김밥,분식,32,',\n",
       " '3,떡볶이,분식,534,',\n",
       " '4,라멘,일식,223,']"
      ]
     },
     "execution_count": 5,
     "metadata": {},
     "output_type": "execute_result"
    }
   ],
   "source": [
    "filtered_lines.take(5)"
   ]
  },
  {
   "cell_type": "code",
   "execution_count": 6,
   "id": "822981ec",
   "metadata": {},
   "outputs": [],
   "source": [
    "def parse(row):\n",
    "    fields = row.split(',')\n",
    "    category = fields[2]\n",
    "    review = int(fields[3])\n",
    "    \n",
    "    return category, review"
   ]
  },
  {
   "cell_type": "code",
   "execution_count": 7,
   "id": "cc6c3d49",
   "metadata": {},
   "outputs": [
    {
     "data": {
      "text/plain": [
       "(' 중식', 125)"
      ]
     },
     "execution_count": 7,
     "metadata": {},
     "output_type": "execute_result"
    }
   ],
   "source": [
    "parse('0, 짜장면, 중식, 125,')"
   ]
  },
  {
   "cell_type": "markdown",
   "id": "32635bd5",
   "metadata": {},
   "source": [
    "### RDD내 모든 row에 대해 parse()를 적용한 다음, map() 추출"
   ]
  },
  {
   "cell_type": "code",
   "execution_count": 8,
   "id": "999ce0bc",
   "metadata": {},
   "outputs": [
    {
     "data": {
      "text/plain": [
       "[('중식', 125), ('중식', 235), ('분식', 32), ('분식', 534), ('일식', 223)]"
      ]
     },
     "execution_count": 8,
     "metadata": {},
     "output_type": "execute_result"
    }
   ],
   "source": [
    "category_review = filtered_lines.map(parse)\n",
    "category_review.take(5)"
   ]
  },
  {
   "cell_type": "code",
   "execution_count": 9,
   "id": "b7d0ce8e",
   "metadata": {},
   "outputs": [
    {
     "data": {
      "text/plain": [
       "[('중식', (125, 1)),\n",
       " ('중식', (235, 1)),\n",
       " ('분식', (32, 1)),\n",
       " ('분식', (534, 1)),\n",
       " ('일식', (223, 1)),\n",
       " ('일식', (52, 1))]"
      ]
     },
     "execution_count": 9,
     "metadata": {},
     "output_type": "execute_result"
    }
   ],
   "source": [
    "category_review_count = category_review.mapValues(lambda x: (x, 1))\n",
    "category_review_count.take(6)"
   ]
  },
  {
   "cell_type": "markdown",
   "id": "3922b40a",
   "metadata": {},
   "source": [
    "'중식', (125, 1)<br>\n",
    "첫번째 중식 > (125, 1) -> x<br>\n",
    "두번째 중식 > (235, 1) -> y<br>\n",
    "리뷰의 개수 합 = x[0] + y[0]<br>\n",
    "건수의 합 = x[1] +y[1]"
   ]
  },
  {
   "cell_type": "code",
   "execution_count": 10,
   "id": "7592eaa8",
   "metadata": {},
   "outputs": [
    {
     "data": {
      "text/plain": [
       "[('중식', (360, 2)),\n",
       " ('분식', (566, 2)),\n",
       " ('일식', (287, 3)),\n",
       " ('아시안', (312, 1)),\n",
       " ('패스트푸드', (35, 2))]"
      ]
     },
     "execution_count": 10,
     "metadata": {},
     "output_type": "execute_result"
    }
   ],
   "source": [
    "# 카테고리별 합계\n",
    "\n",
    "reduce_rdd = category_review_count.reduceByKey(lambda x, y : (x[0] + y[0], x[1] + y[1]))\n",
    "reduce_rdd.take(5)"
   ]
  },
  {
   "cell_type": "code",
   "execution_count": 11,
   "id": "1024051f",
   "metadata": {},
   "outputs": [
    {
     "data": {
      "text/plain": [
       "[('중식', (360, 2)),\n",
       " ('분식', (566, 2)),\n",
       " ('일식', (287, 3)),\n",
       " ('아시안', (312, 1)),\n",
       " ('패스트푸드', (35, 2))]"
      ]
     },
     "execution_count": 11,
     "metadata": {},
     "output_type": "execute_result"
    }
   ],
   "source": [
    "reduce_rdd.collect()"
   ]
  },
  {
   "cell_type": "code",
   "execution_count": 12,
   "id": "254ecac6",
   "metadata": {},
   "outputs": [],
   "source": [
    "# 평균\n",
    "averge = reduce_rdd.mapValues(lambda x : x[0]/x[1])"
   ]
  },
  {
   "cell_type": "code",
   "execution_count": 13,
   "id": "cd2597ec",
   "metadata": {},
   "outputs": [
    {
     "data": {
      "text/plain": [
       "[('중식', 180.0),\n",
       " ('분식', 283.0),\n",
       " ('일식', 95.66666666666667),\n",
       " ('아시안', 312.0),\n",
       " ('패스트푸드', 17.5)]"
      ]
     },
     "execution_count": 13,
     "metadata": {},
     "output_type": "execute_result"
    }
   ],
   "source": [
    "averge.collect()"
   ]
  },
  {
   "cell_type": "markdown",
   "id": "a0f5523b",
   "metadata": {},
   "source": [
    "# 연습"
   ]
  },
  {
   "cell_type": "code",
   "execution_count": 29,
   "id": "a98ea320",
   "metadata": {},
   "outputs": [],
   "source": [
    "# 데이터 추가 > 메뉴별 합계와 평균\n",
    "def parse_menu(row):\n",
    "    fields = row.split(',')\n",
    "    menu = fields[1]\n",
    "    review = int(fields[3])\n",
    "    \n",
    "    return menu, review"
   ]
  },
  {
   "cell_type": "code",
   "execution_count": 30,
   "id": "8f544500",
   "metadata": {},
   "outputs": [
    {
     "data": {
      "text/plain": [
       "[('짜장면', 125),\n",
       " ('짬뽕', 235),\n",
       " ('김밥', 32),\n",
       " ('떡볶이', 534),\n",
       " ('라멘', 223),\n",
       " ('돈가스', 52),\n",
       " ('우동', 12),\n",
       " ('쌀국수', 312),\n",
       " ('햄버거', 12),\n",
       " ('치킨', 23)]"
      ]
     },
     "execution_count": 30,
     "metadata": {},
     "output_type": "execute_result"
    }
   ],
   "source": [
    "menu_review = filtered_lines.map(menu)\n",
    "menu_review.collect()"
   ]
  },
  {
   "cell_type": "code",
   "execution_count": 31,
   "id": "c4e89387",
   "metadata": {},
   "outputs": [],
   "source": [
    "additional_data = [\n",
    "    ('탕수육', 400),\n",
    "    ('짜장면', 200),\n",
    "    ('김치찌개', 350),\n",
    "    ('비빔밥', 300)\n",
    "]\n",
    "add_rdd = spark.parallelize(additional_data)"
   ]
  },
  {
   "cell_type": "code",
   "execution_count": 32,
   "id": "31ea4576",
   "metadata": {},
   "outputs": [],
   "source": [
    "cat_rdd = menu_review.union(add_rdd)"
   ]
  },
  {
   "cell_type": "code",
   "execution_count": 33,
   "id": "f394cef1",
   "metadata": {},
   "outputs": [
    {
     "data": {
      "text/plain": [
       "[('짜장면', (125, 1)),\n",
       " ('짬뽕', (235, 1)),\n",
       " ('김밥', (32, 1)),\n",
       " ('떡볶이', (534, 1)),\n",
       " ('라멘', (223, 1)),\n",
       " ('돈가스', (52, 1)),\n",
       " ('우동', (12, 1)),\n",
       " ('쌀국수', (312, 1)),\n",
       " ('햄버거', (12, 1)),\n",
       " ('치킨', (23, 1)),\n",
       " ('탕수육', (400, 1)),\n",
       " ('짜장면', (200, 1)),\n",
       " ('김치찌개', (350, 1)),\n",
       " ('비빔밥', (300, 1))]"
      ]
     },
     "execution_count": 33,
     "metadata": {},
     "output_type": "execute_result"
    }
   ],
   "source": [
    "menu_review_count = cat_rdd.mapValues(lambda x: (x, 1))\n",
    "menu_review_count.collect()"
   ]
  },
  {
   "cell_type": "code",
   "execution_count": 34,
   "id": "c0c4e25c",
   "metadata": {},
   "outputs": [
    {
     "data": {
      "text/plain": [
       "[('짜장면', (325, 2)),\n",
       " ('짬뽕', (235, 1)),\n",
       " ('떡볶이', (534, 1)),\n",
       " ('쌀국수', (312, 1)),\n",
       " ('치킨', (23, 1)),\n",
       " ('탕수육', (400, 1)),\n",
       " ('김치찌개', (350, 1)),\n",
       " ('김밥', (32, 1)),\n",
       " ('라멘', (223, 1)),\n",
       " ('돈가스', (52, 1)),\n",
       " ('우동', (12, 1)),\n",
       " ('햄버거', (12, 1)),\n",
       " ('비빔밥', (300, 1))]"
      ]
     },
     "execution_count": 34,
     "metadata": {},
     "output_type": "execute_result"
    }
   ],
   "source": [
    "# 메뉴별 합계, 리뷰 개수 계산\n",
    "menu_reduce_rdd = menu_review_count.reduceByKey(lambda x, y: (x[0] + y[0], x[1] + y[1]))\n",
    "menu_reduce_rdd.collect()"
   ]
  },
  {
   "cell_type": "code",
   "execution_count": 35,
   "id": "cfb461de",
   "metadata": {},
   "outputs": [
    {
     "data": {
      "text/plain": [
       "[('짜장면', (325, 162.5)),\n",
       " ('짬뽕', (235, 235.0)),\n",
       " ('떡볶이', (534, 534.0)),\n",
       " ('쌀국수', (312, 312.0)),\n",
       " ('치킨', (23, 23.0)),\n",
       " ('탕수육', (400, 400.0)),\n",
       " ('김치찌개', (350, 350.0)),\n",
       " ('김밥', (32, 32.0)),\n",
       " ('라멘', (223, 223.0)),\n",
       " ('돈가스', (52, 52.0)),\n",
       " ('우동', (12, 12.0)),\n",
       " ('햄버거', (12, 12.0)),\n",
       " ('비빔밥', (300, 300.0))]"
      ]
     },
     "execution_count": 35,
     "metadata": {},
     "output_type": "execute_result"
    }
   ],
   "source": [
    "# 메뉴별 평균 계산\n",
    "menu_average = menu_reduce_rdd.mapValues(lambda x: (x[0], x[0] / x[1]))\n",
    "menu_average.collect()"
   ]
  },
  {
   "cell_type": "code",
   "execution_count": 36,
   "id": "4c0ae0e4",
   "metadata": {},
   "outputs": [
    {
     "name": "stdout",
     "output_type": "stream",
     "text": [
      "메뉴별 합계와 평균: [('짜장면', (325, 162.5)), ('짬뽕', (235, 235.0)), ('떡볶이', (534, 534.0)), ('쌀국수', (312, 312.0)), ('치킨', (23, 23.0)), ('탕수육', (400, 400.0)), ('김치찌개', (350, 350.0)), ('김밥', (32, 32.0)), ('라멘', (223, 223.0)), ('돈가스', (52, 52.0)), ('우동', (12, 12.0)), ('햄버거', (12, 12.0)), ('비빔밥', (300, 300.0))]\n"
     ]
    }
   ],
   "source": [
    "print(f\"메뉴별 합계와 평균: {menu_average.collect()}\")"
   ]
  },
  {
   "cell_type": "code",
   "execution_count": 6,
   "id": "4ff32aec",
   "metadata": {},
   "outputs": [],
   "source": [
    "spark.stop()"
   ]
  },
  {
   "cell_type": "code",
   "execution_count": null,
   "id": "276e6900",
   "metadata": {},
   "outputs": [],
   "source": []
  },
  {
   "cell_type": "code",
   "execution_count": null,
   "id": "5a05de36",
   "metadata": {},
   "outputs": [],
   "source": []
  },
  {
   "cell_type": "code",
   "execution_count": null,
   "id": "d732e95f",
   "metadata": {},
   "outputs": [],
   "source": []
  },
  {
   "cell_type": "code",
   "execution_count": null,
   "id": "cb9dcfc5",
   "metadata": {},
   "outputs": [],
   "source": []
  },
  {
   "cell_type": "code",
   "execution_count": null,
   "id": "f7e33afb",
   "metadata": {},
   "outputs": [],
   "source": []
  },
  {
   "cell_type": "code",
   "execution_count": null,
   "id": "79e5e513",
   "metadata": {},
   "outputs": [],
   "source": []
  },
  {
   "cell_type": "code",
   "execution_count": null,
   "id": "f1f165aa",
   "metadata": {},
   "outputs": [],
   "source": []
  },
  {
   "cell_type": "code",
   "execution_count": null,
   "id": "c10ed7cd",
   "metadata": {},
   "outputs": [],
   "source": []
  },
  {
   "cell_type": "code",
   "execution_count": null,
   "id": "0d5a834f",
   "metadata": {},
   "outputs": [],
   "source": []
  },
  {
   "cell_type": "code",
   "execution_count": null,
   "id": "3e86e844",
   "metadata": {},
   "outputs": [],
   "source": [
    "spark.stop()"
   ]
  }
 ],
 "metadata": {
  "kernelspec": {
   "display_name": "Python (spark)",
   "language": "python",
   "name": "spark"
  },
  "language_info": {
   "codemirror_mode": {
    "name": "ipython",
    "version": 3
   },
   "file_extension": ".py",
   "mimetype": "text/x-python",
   "name": "python",
   "nbconvert_exporter": "python",
   "pygments_lexer": "ipython3",
   "version": "3.8.20"
  }
 },
 "nbformat": 4,
 "nbformat_minor": 5
}
