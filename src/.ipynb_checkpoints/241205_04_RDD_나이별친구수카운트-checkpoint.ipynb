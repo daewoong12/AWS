{
 "cells": [
  {
   "cell_type": "code",
   "execution_count": 1,
   "id": "9327c7f2",
   "metadata": {},
   "outputs": [],
   "source": [
    "# user_id : 사용자 ID name : 사용자 이름 age : 사용자 나이 num_friends: 친구수"
   ]
  },
  {
   "cell_type": "code",
   "execution_count": null,
   "id": "0190dbd4",
   "metadata": {},
   "outputs": [],
   "source": [
    "# 평균 친구수 구하기\n",
    "# 가장 친구가 많은 사용자 찾기\n",
    "# 친구 수가 100이상인 사용자 필터링\n",
    "# 특정 나이에 속한 사람들의 친구 수 합계\n",
    "# 분석주제 추가"
   ]
  },
  {
   "cell_type": "code",
   "execution_count": 2,
   "id": "25764706",
   "metadata": {},
   "outputs": [
    {
     "name": "stderr",
     "output_type": "stream",
     "text": [
      "24/12/05 15:05:35 WARN NativeCodeLoader: Unable to load native-hadoop library for your platform... using builtin-java classes where applicable\n",
      "Using Spark's default log4j profile: org/apache/spark/log4j-defaults.properties\n",
      "Setting default log level to \"WARN\".\n",
      "To adjust logging level use sc.setLogLevel(newLevel). For SparkR, use setLogLevel(newLevel).\n",
      "24/12/05 15:05:36 WARN Utils: Service 'SparkUI' could not bind on port 4040. Attempting port 4041.\n"
     ]
    }
   ],
   "source": [
    "from pyspark import SparkConf, SparkContext\n",
    "conf = SparkConf().setMaster('local').setAppName('241205_04_RDDEXAM')\n",
    "spark = SparkContext(conf=conf).getOrCreate()"
   ]
  },
  {
   "cell_type": "code",
   "execution_count": 3,
   "id": "5c7b3780",
   "metadata": {},
   "outputs": [],
   "source": [
    "import os\n",
    "directory = os.path.join(os.getcwd(), 'data')\n",
    "filename = 'fakefriends.csv'\n",
    "filepath = os.path.join(directory, filename)"
   ]
  },
  {
   "cell_type": "code",
   "execution_count": 4,
   "id": "b9a9f4df",
   "metadata": {},
   "outputs": [
    {
     "name": "stderr",
     "output_type": "stream",
     "text": [
      "                                                                                \r"
     ]
    },
    {
     "data": {
      "text/plain": [
       "['0,Will,33,385',\n",
       " '1,Jean-Luc,26,2',\n",
       " '2,Hugh,55,221',\n",
       " '3,Deanna,40,465',\n",
       " '4,Quark,68,21']"
      ]
     },
     "execution_count": 4,
     "metadata": {},
     "output_type": "execute_result"
    }
   ],
   "source": [
    "# RDD 생성\n",
    "lines = spark.textFile('file:///'+filepath.replace('\\\\', '/'))\n",
    "lines.take(5)"
   ]
  },
  {
   "cell_type": "code",
   "execution_count": 7,
   "id": "1e5b923c",
   "metadata": {},
   "outputs": [],
   "source": [
    "# 데이터 파싱 함수 정의\n",
    "def parse_line(line):\n",
    "    fields = line.split(',')\n",
    "    user_id = int(fields[0])\n",
    "    name = fields[1]\n",
    "    age = int(fields[2])\n",
    "    num_friends = int(fields[3])\n",
    "    return (user_id, name, age, num_friends)\n",
    "\n",
    "data = lines.map(parse_line)\n",
    "data.take(5)"
   ]
  },
  {
   "cell_type": "code",
   "execution_count": 33,
   "id": "0449a12d",
   "metadata": {},
   "outputs": [
    {
     "data": {
      "text/plain": [
       "[(1, 248.532)]"
      ]
     },
     "execution_count": 33,
     "metadata": {},
     "output_type": "execute_result"
    }
   ],
   "source": [
    "# 평균 친구 수 구하기\n",
    "# (계산한 그룹, 평균 친구 수)\n",
    "friend_stats = data.map(lambda x: (1, (x[3], 1)))\n",
    "friend_sum_and_count = friend_stats.reduceByKey(lambda x, y: (x[0] + y[0], x[1] + y[1]))\n",
    "friend_sum_and_count.mapValues(lambda x: x[0] / x[1]).collect()"
   ]
  },
  {
   "cell_type": "code",
   "execution_count": 32,
   "id": "49860d88",
   "metadata": {},
   "outputs": [
    {
     "data": {
      "text/plain": [
       "(353, 'Julian', 64, 499)"
      ]
     },
     "execution_count": 32,
     "metadata": {},
     "output_type": "execute_result"
    }
   ],
   "source": [
    "# 가장 친구가 많은 사용자 찾기\n",
    "data.reduce(lambda x, y: x if x[3] > y[3] else y)"
   ]
  },
  {
   "cell_type": "code",
   "execution_count": 31,
   "id": "b6f845fa",
   "metadata": {
    "scrolled": true
   },
   "outputs": [
    {
     "data": {
      "text/plain": [
       "[(0, 'Will', 33, 385),\n",
       " (2, 'Hugh', 55, 221),\n",
       " (3, 'Deanna', 40, 465),\n",
       " (5, 'Weyoun', 59, 318),\n",
       " (6, 'Gowron', 37, 220),\n",
       " (7, 'Will', 54, 307),\n",
       " (8, 'Jadzia', 38, 380),\n",
       " (9, 'Hugh', 27, 181),\n",
       " (10, 'Odo', 53, 191),\n",
       " (11, 'Ben', 57, 372),\n",
       " (12, 'Keiko', 54, 253),\n",
       " (13, 'Jean-Luc', 56, 444),\n",
       " (16, 'Weyoun', 22, 323),\n",
       " (18, 'Jean-Luc', 45, 455),\n",
       " (19, 'Geordi', 60, 246),\n",
       " (20, 'Odo', 67, 220),\n",
       " (21, 'Miles', 19, 268),\n",
       " (23, 'Keiko', 51, 271),\n",
       " (25, 'Ben', 21, 445),\n",
       " (26, 'Julian', 22, 100),\n",
       " (27, 'Leeta', 42, 363),\n",
       " (28, 'Martok', 49, 476),\n",
       " (29, 'Nog', 48, 364),\n",
       " (30, 'Keiko', 50, 175),\n",
       " (31, 'Miles', 39, 161),\n",
       " (32, 'Nog', 26, 281),\n",
       " (33, 'Dukat', 53, 197),\n",
       " (34, 'Jean-Luc', 43, 249),\n",
       " (35, 'Beverly', 27, 305),\n",
       " (39, 'Morn', 31, 192),\n",
       " (40, 'Odo', 52, 413),\n",
       " (41, 'Hugh', 67, 167),\n",
       " (43, 'Guinan', 58, 345),\n",
       " (44, 'Nerys', 35, 244),\n",
       " (49, 'Ezri', 40, 254),\n",
       " (50, 'Quark', 51, 283),\n",
       " (51, 'Lwaxana', 36, 212),\n",
       " (52, 'Beverly', 19, 269),\n",
       " (55, 'Keiko', 41, 278),\n",
       " (56, 'Gowron', 44, 194),\n",
       " (57, 'Odo', 57, 294),\n",
       " (58, 'Hugh', 59, 158),\n",
       " (59, 'Morn', 59, 284),\n",
       " (60, 'Geordi', 20, 100),\n",
       " (61, 'Kasidy', 62, 442),\n",
       " (65, 'Guinan', 52, 169),\n",
       " (66, 'Geordi', 21, 477),\n",
       " (67, 'Jadzia', 48, 135),\n",
       " (69, 'Jean-Luc', 30, 204),\n",
       " (70, 'Brunt', 52, 393),\n",
       " (71, 'Geordi', 45, 184),\n",
       " (72, 'Kasidy', 22, 179),\n",
       " (73, 'Brunt', 20, 384),\n",
       " (74, 'Leeta', 65, 208),\n",
       " (75, 'Morn', 40, 459),\n",
       " (76, 'Will', 62, 201),\n",
       " (77, 'Weyoun', 40, 407),\n",
       " (78, 'Data', 61, 337),\n",
       " (79, 'Leeta', 58, 348),\n",
       " (80, 'Dukat', 67, 445),\n",
       " (81, 'Jadzia', 54, 440),\n",
       " (82, 'Hugh', 57, 465),\n",
       " (83, 'Geordi', 32, 308),\n",
       " (84, 'Ben', 28, 311),\n",
       " (85, 'Quark', 66, 383),\n",
       " (86, 'Hugh', 55, 257),\n",
       " (87, 'Ezri', 31, 481),\n",
       " (88, 'Ben', 66, 188),\n",
       " (89, 'Worf', 24, 492),\n",
       " (90, 'Kasidy', 33, 471),\n",
       " (94, 'Morn', 62, 133),\n",
       " (95, 'Odo', 29, 173),\n",
       " (96, 'Ezri', 25, 233),\n",
       " (97, 'Nerys', 69, 361),\n",
       " (98, 'Will', 44, 178),\n",
       " (99, 'Keiko', 69, 491),\n",
       " (100, 'Jean-Luc', 61, 460),\n",
       " (101, 'Morn', 67, 123),\n",
       " (104, 'Dukat', 32, 142),\n",
       " (105, 'Morn', 50, 417),\n",
       " (106, 'Beverly', 18, 499),\n",
       " (107, 'Will', 64, 419),\n",
       " (108, 'Leeta', 25, 274),\n",
       " (109, 'Quark', 53, 417),\n",
       " (110, 'Nog', 64, 137),\n",
       " (113, 'Quark', 41, 244),\n",
       " (114, 'Worf', 33, 275),\n",
       " (115, 'Dukat', 18, 397),\n",
       " (117, 'Rom', 52, 487),\n",
       " (118, 'Ben', 28, 304),\n",
       " (119, 'Worf', 29, 344),\n",
       " (120, 'Jean-Luc', 68, 264),\n",
       " (121, 'Deanna', 35, 355),\n",
       " (122, 'Data', 45, 400),\n",
       " (123, 'Jadzia', 45, 439),\n",
       " (124, 'Data', 47, 429),\n",
       " (125, 'Rom', 66, 284),\n",
       " (127, 'Miles', 40, 284),\n",
       " (128, 'Julian', 34, 221),\n",
       " (129, 'Kasidy', 45, 252),\n",
       " (130, 'Gowron', 67, 350),\n",
       " (131, 'Hugh', 65, 309),\n",
       " (132, 'Odo', 46, 462),\n",
       " (133, 'Quark', 19, 265),\n",
       " (134, 'Ben', 45, 340),\n",
       " (135, 'Rom', 42, 427),\n",
       " (136, 'Will', 19, 335),\n",
       " (138, 'Dukat', 32, 384),\n",
       " (139, 'Nog', 36, 193),\n",
       " (140, 'Elim', 64, 234),\n",
       " (141, 'Miles', 36, 424),\n",
       " (142, 'Guinan', 59, 335),\n",
       " (143, 'Data', 60, 124),\n",
       " (145, 'Leeta', 45, 470),\n",
       " (146, 'Nerys', 58, 174),\n",
       " (147, 'Quark', 61, 373),\n",
       " (148, 'Nerys', 39, 248),\n",
       " (149, 'Beverly', 49, 340),\n",
       " (150, 'Nerys', 55, 313),\n",
       " (151, 'Keiko', 54, 441),\n",
       " (152, 'Kasidy', 54, 235),\n",
       " (153, 'Morn', 63, 342),\n",
       " (154, 'Geordi', 40, 389),\n",
       " (155, 'Beverly', 50, 126),\n",
       " (156, 'Deanna', 44, 360),\n",
       " (157, 'Dukat', 34, 319),\n",
       " (158, 'Odo', 31, 340),\n",
       " (159, 'Kasidy', 67, 438),\n",
       " (160, 'Beverly', 58, 112),\n",
       " (161, 'Odo', 39, 207),\n",
       " (163, 'Nerys', 67, 204),\n",
       " (164, 'Will', 31, 172),\n",
       " (165, 'Leeta', 26, 282),\n",
       " (168, 'Martok', 68, 112),\n",
       " (170, 'Jean-Luc', 68, 490),\n",
       " (171, 'Weyoun', 29, 126),\n",
       " (172, 'Kasidy', 55, 204),\n",
       " (173, 'Leeta', 23, 129),\n",
       " (175, 'Will', 38, 459),\n",
       " (176, 'Worf', 55, 474),\n",
       " (177, 'Brunt', 67, 316),\n",
       " (178, 'Kasidy', 26, 381),\n",
       " (179, 'Elim', 37, 426),\n",
       " (180, 'Kasidy', 30, 108),\n",
       " (181, 'Rom', 43, 404),\n",
       " (182, 'Weyoun', 26, 145),\n",
       " (183, 'Ben', 47, 488),\n",
       " (185, 'Weyoun', 48, 287),\n",
       " (186, 'Miles', 31, 109),\n",
       " (187, 'Nerys', 47, 225),\n",
       " (188, 'Keiko', 54, 369),\n",
       " (190, 'Geordi', 60, 294),\n",
       " (191, 'Nog', 40, 349),\n",
       " (192, 'Jadzia', 45, 497),\n",
       " (193, 'Nerys', 60, 125),\n",
       " (195, 'Ben', 30, 376),\n",
       " (196, 'Data', 38, 173),\n",
       " (198, 'Brunt', 48, 381),\n",
       " (199, 'Hugh', 38, 180),\n",
       " (200, 'Kasidy', 21, 472),\n",
       " (201, 'Ezri', 23, 174),\n",
       " (202, 'Lwaxana', 63, 469),\n",
       " (203, 'Ezri', 46, 125),\n",
       " (204, 'Deanna', 64, 164),\n",
       " (205, 'Morn', 69, 236),\n",
       " (206, 'Will', 21, 491),\n",
       " (207, 'Lwaxana', 41, 206),\n",
       " (208, 'Nog', 37, 271),\n",
       " (209, 'Brunt', 27, 174),\n",
       " (210, 'Data', 33, 245),\n",
       " (212, 'Geordi', 55, 284),\n",
       " (213, 'Worf', 28, 312),\n",
       " (214, 'Miles', 32, 182),\n",
       " (216, 'Brunt', 34, 116),\n",
       " (217, 'Keiko', 29, 260),\n",
       " (218, 'Gowron', 66, 350),\n",
       " (219, 'Lwaxana', 26, 345),\n",
       " (220, 'Jean-Luc', 41, 394),\n",
       " (221, 'Dukat', 27, 150),\n",
       " (222, 'Rom', 34, 346),\n",
       " (223, 'Odo', 40, 406),\n",
       " (224, 'Keiko', 44, 277),\n",
       " (225, 'Elim', 19, 106),\n",
       " (226, 'Lwaxana', 37, 207),\n",
       " (227, 'Ezri', 40, 198),\n",
       " (228, 'Martok', 26, 293),\n",
       " (229, 'Gowron', 24, 150),\n",
       " (230, 'Beverly', 54, 397),\n",
       " (232, 'Worf', 68, 481),\n",
       " (236, 'Brunt', 62, 442),\n",
       " (237, 'Nerys', 61, 469),\n",
       " (238, 'Deanna', 25, 305),\n",
       " (239, 'Nog', 48, 345),\n",
       " (240, 'Deanna', 46, 154),\n",
       " (241, 'Quark', 45, 332),\n",
       " (242, 'Data', 25, 101),\n",
       " (244, 'Dukat', 21, 471),\n",
       " (245, 'Jean-Luc', 28, 174),\n",
       " (246, 'Leeta', 41, 260),\n",
       " (247, 'Ezri', 52, 338),\n",
       " (248, 'Dukat', 21, 138),\n",
       " (250, 'Hugh', 36, 342),\n",
       " (252, 'Will', 36, 174),\n",
       " (253, 'Leeta', 69, 116),\n",
       " (255, 'Deanna', 60, 324),\n",
       " (256, 'Worf', 32, 412),\n",
       " (257, 'Data', 51, 161),\n",
       " (258, 'Worf', 68, 217),\n",
       " (261, 'Jadzia', 40, 172),\n",
       " (262, 'Will', 51, 334),\n",
       " (264, 'Julian', 29, 228),\n",
       " (265, 'Gowron', 27, 471),\n",
       " (266, 'Jean-Luc', 66, 496),\n",
       " (267, 'Dukat', 49, 106),\n",
       " (268, 'Ezri', 26, 298),\n",
       " (269, 'Beverly', 55, 289),\n",
       " (270, 'Data', 44, 353),\n",
       " (271, 'Morn', 25, 446),\n",
       " (272, 'Quark', 29, 367),\n",
       " (273, 'Data', 51, 493),\n",
       " (274, 'Julian', 64, 244),\n",
       " (276, 'Dukat', 54, 462),\n",
       " (277, 'Hugh', 46, 300),\n",
       " (278, 'Data', 44, 499),\n",
       " (279, 'Beverly', 23, 133),\n",
       " (280, 'Nerys', 26, 492),\n",
       " (282, 'Geordi', 32, 404),\n",
       " (283, 'Dukat', 65, 443),\n",
       " (284, 'Nog', 26, 269),\n",
       " (285, 'Data', 43, 101),\n",
       " (286, 'Lwaxana', 30, 384),\n",
       " (287, 'Beverly', 64, 396),\n",
       " (288, 'Hugh', 56, 354),\n",
       " (289, 'Ezri', 30, 221),\n",
       " (290, 'Beverly', 62, 290),\n",
       " (291, 'Dukat', 23, 373),\n",
       " (292, 'Nog', 63, 380),\n",
       " (294, 'Leeta', 38, 410),\n",
       " (296, 'Data', 38, 454),\n",
       " (297, 'Ben', 45, 395),\n",
       " (298, 'Guinan', 57, 207),\n",
       " (299, 'Rom', 57, 311),\n",
       " (300, 'Beverly', 49, 147),\n",
       " (301, 'Weyoun', 28, 108),\n",
       " (302, 'Beverly', 37, 263),\n",
       " (303, 'Deanna', 46, 319),\n",
       " (304, 'Will', 19, 404),\n",
       " (305, 'Quark', 29, 182),\n",
       " (306, 'Beverly', 23, 323),\n",
       " (307, 'Keiko', 41, 340),\n",
       " (309, 'Geordi', 67, 153),\n",
       " (310, 'Odo', 68, 189),\n",
       " (312, 'Jadzia', 61, 421),\n",
       " (313, 'Dukat', 59, 169),\n",
       " (314, 'Geordi', 36, 168),\n",
       " (315, 'Weyoun', 25, 208),\n",
       " (316, 'Hugh', 64, 391),\n",
       " (317, 'Guinan', 59, 439),\n",
       " (318, 'Deanna', 35, 251),\n",
       " (319, 'Leeta', 30, 476),\n",
       " (320, 'Worf', 62, 450),\n",
       " (323, 'Nog', 29, 236),\n",
       " (324, 'Miles', 56, 343),\n",
       " (325, 'Keiko', 51, 492),\n",
       " (326, 'Beverly', 46, 407),\n",
       " (330, 'Ezri', 33, 356),\n",
       " (332, 'Julian', 55, 362),\n",
       " (333, 'Ben', 29, 207),\n",
       " (335, 'Odo', 27, 337),\n",
       " (338, 'Will', 28, 180),\n",
       " (339, 'Morn', 66, 305),\n",
       " (340, 'Nerys', 57, 275),\n",
       " (341, 'Data', 18, 326),\n",
       " (342, 'Guinan', 46, 151),\n",
       " (343, 'Odo', 26, 254),\n",
       " (344, 'Data', 30, 487),\n",
       " (345, 'Ezri', 31, 394),\n",
       " (346, 'Hugh', 29, 329),\n",
       " (348, 'Weyoun', 33, 460),\n",
       " (349, 'Kasidy', 20, 277),\n",
       " (350, 'Nog', 55, 464),\n",
       " (353, 'Julian', 64, 499),\n",
       " (355, 'Keiko', 46, 352),\n",
       " (356, 'Weyoun', 67, 149),\n",
       " (358, 'Will', 52, 276),\n",
       " (359, 'Nog', 54, 442),\n",
       " (361, 'Worf', 68, 206),\n",
       " (362, 'Ezri', 39, 120),\n",
       " (363, 'Dukat', 41, 397),\n",
       " (364, 'Lwaxana', 54, 115),\n",
       " (365, 'Brunt', 65, 430),\n",
       " (366, 'Keiko', 19, 119),\n",
       " (367, 'Data', 39, 106),\n",
       " (368, 'Elim', 26, 383),\n",
       " (369, 'Quark', 48, 266),\n",
       " (371, 'Guinan', 31, 435),\n",
       " (372, 'Brunt', 62, 273),\n",
       " (373, 'Quark', 19, 272),\n",
       " (374, 'Nog', 68, 293),\n",
       " (375, 'Hugh', 66, 201),\n",
       " (376, 'Gowron', 23, 392),\n",
       " (377, 'Beverly', 18, 418),\n",
       " (379, 'Data', 60, 304),\n",
       " (382, 'Worf', 66, 240),\n",
       " (383, 'Data', 69, 148),\n",
       " (384, 'Martok', 67, 355),\n",
       " (385, 'Beverly', 57, 436),\n",
       " (386, 'Data', 35, 428),\n",
       " (387, 'Will', 43, 335),\n",
       " (388, 'Nog', 30, 184),\n",
       " (390, 'Martok', 22, 266),\n",
       " (391, 'Ben', 64, 309),\n",
       " (392, 'Data', 64, 343),\n",
       " (393, 'Quark', 50, 436),\n",
       " (394, 'Keiko', 23, 230),\n",
       " (397, 'Quark', 69, 470),\n",
       " (398, 'Lwaxana', 26, 124),\n",
       " (399, 'Beverly', 24, 401),\n",
       " (400, 'Data', 29, 128),\n",
       " (401, 'Jean-Luc', 42, 467),\n",
       " (403, 'Weyoun', 21, 224),\n",
       " (405, 'Nog', 56, 371),\n",
       " (406, 'Ben', 57, 121),\n",
       " (408, 'Dukat', 62, 496),\n",
       " (409, 'Nog', 19, 267),\n",
       " (410, 'Odo', 35, 299),\n",
       " (412, 'Jadzia', 53, 451),\n",
       " (413, 'Hugh', 45, 147),\n",
       " (414, 'Martok', 56, 313),\n",
       " (416, 'Nerys', 33, 294),\n",
       " (417, 'Julian', 37, 106),\n",
       " (418, 'Guinan', 32, 212),\n",
       " (419, 'Kasidy', 55, 176),\n",
       " (420, 'Jadzia', 26, 391),\n",
       " (421, 'Will', 40, 261),\n",
       " (422, 'Ben', 67, 292),\n",
       " (423, 'Will', 44, 388),\n",
       " (424, 'Keiko', 55, 470),\n",
       " (425, 'Quark', 33, 243),\n",
       " (427, 'Brunt', 28, 258),\n",
       " (428, 'Lwaxana', 68, 423),\n",
       " (429, 'Jean-Luc', 63, 345),\n",
       " (430, 'Geordi', 36, 493),\n",
       " (431, 'Quark', 36, 343),\n",
       " (433, 'Ezri', 38, 203),\n",
       " (434, 'Deanna', 57, 289),\n",
       " (435, 'Guinan', 42, 275),\n",
       " (436, 'Geordi', 57, 229),\n",
       " (437, 'Morn', 59, 221),\n",
       " (439, 'Data', 18, 417),\n",
       " (440, 'Elim', 48, 394),\n",
       " (441, 'Jadzia', 38, 143),\n",
       " (442, 'Nog', 46, 105),\n",
       " (443, 'Geordi', 64, 175),\n",
       " (444, 'Keiko', 18, 472),\n",
       " (445, 'Guinan', 40, 286),\n",
       " (448, 'Nerys', 48, 439),\n",
       " (449, 'Data', 52, 419),\n",
       " (450, 'Weyoun', 37, 234),\n",
       " (453, 'Julian', 44, 337),\n",
       " (454, 'Weyoun', 52, 456),\n",
       " (455, 'Elim', 33, 463),\n",
       " (456, 'Ezri', 37, 471),\n",
       " (458, 'Elim', 44, 335),\n",
       " (460, 'Hugh', 47, 400),\n",
       " (461, 'Geordi', 41, 236),\n",
       " (462, 'Nerys', 23, 287),\n",
       " (463, 'Keiko', 40, 220),\n",
       " (464, 'Beverly', 25, 485),\n",
       " (465, 'Morn', 53, 126),\n",
       " (466, 'Brunt', 33, 228),\n",
       " (467, 'Weyoun', 42, 194),\n",
       " (468, 'Ezri', 46, 227),\n",
       " (469, 'Brunt', 55, 271),\n",
       " (470, 'Deanna', 38, 160),\n",
       " (471, 'Brunt', 52, 273),\n",
       " (472, 'Nog', 27, 154),\n",
       " (475, 'Ben', 52, 446),\n",
       " (476, 'Jean-Luc', 28, 378),\n",
       " (477, 'Gowron', 50, 119),\n",
       " (479, 'Kasidy', 44, 320),\n",
       " (480, 'Geordi', 43, 428),\n",
       " (482, 'Ben', 48, 146),\n",
       " (484, 'Leeta', 22, 478),\n",
       " (485, 'Rom', 47, 356),\n",
       " (487, 'Brunt', 69, 431),\n",
       " (488, 'Nog', 61, 103),\n",
       " (489, 'Odo', 33, 410),\n",
       " (490, 'Nerys', 65, 101),\n",
       " (493, 'Hugh', 23, 357),\n",
       " (494, 'Kasidy', 18, 194),\n",
       " (495, 'Data', 46, 155),\n",
       " (496, 'Gowron', 39, 275),\n",
       " (497, 'Lwaxana', 34, 423)]"
      ]
     },
     "execution_count": 31,
     "metadata": {},
     "output_type": "execute_result"
    }
   ],
   "source": [
    "# 친구수가 100 이상인 사용자 필터링\n",
    "data.filter(lambda x: x[3] >= 100).collect()"
   ]
  },
  {
   "cell_type": "code",
   "execution_count": 36,
   "id": "06f9bb74",
   "metadata": {},
   "outputs": [
    {
     "data": {
      "text/plain": [
       "[(22, 'Quark', 30, 72),\n",
       " (69, 'Jean-Luc', 30, 204),\n",
       " (180, 'Kasidy', 30, 108),\n",
       " (195, 'Ben', 30, 376),\n",
       " (286, 'Lwaxana', 30, 384)]"
      ]
     },
     "execution_count": 36,
     "metadata": {},
     "output_type": "execute_result"
    }
   ],
   "source": [
    "# 특정 나이에 속한 사람들의 친구 수 합계(30)\n",
    "age_friends = data.filter(lambda x: x[2] == 30)\n",
    "age_friends.take(5)"
   ]
  },
  {
   "cell_type": "code",
   "execution_count": 41,
   "id": "19622d38",
   "metadata": {},
   "outputs": [
    {
     "data": {
      "text/plain": [
       "defaultdict(int,\n",
       "            {(30, 72): 1,\n",
       "             (30, 204): 1,\n",
       "             (30, 108): 1,\n",
       "             (30, 376): 1,\n",
       "             (30, 384): 1,\n",
       "             (30, 221): 1,\n",
       "             (30, 476): 1,\n",
       "             (30, 17): 1,\n",
       "             (30, 487): 1,\n",
       "             (30, 184): 1,\n",
       "             (30, 65): 1})"
      ]
     },
     "execution_count": 41,
     "metadata": {},
     "output_type": "execute_result"
    }
   ],
   "source": [
    "# (age, num_friends)\n",
    "age_friends_30 = age_friends.map(lambda x: (x[2], x[3]))\n",
    "age_friends_30.countByValue()\n",
    "# age_friends_30.take(5)"
   ]
  },
  {
   "cell_type": "code",
   "execution_count": 39,
   "id": "c5ff3704",
   "metadata": {},
   "outputs": [
    {
     "data": {
      "text/plain": [
       "[(30, 2594)]"
      ]
     },
     "execution_count": 39,
     "metadata": {},
     "output_type": "execute_result"
    }
   ],
   "source": [
    "# 합산\n",
    "age_friends_30.reduceByKey(lambda x, y: x + y).collect()"
   ]
  },
  {
   "cell_type": "code",
   "execution_count": 44,
   "id": "008f59f2",
   "metadata": {},
   "outputs": [
    {
     "data": {
      "text/plain": [
       "[(33, 325.3333333333333),\n",
       " (26, 242.05882352941177),\n",
       " (55, 295.53846153846155),\n",
       " (40, 250.8235294117647),\n",
       " (68, 269.6),\n",
       " (59, 220.0),\n",
       " (37, 249.33333333333334),\n",
       " (54, 278.0769230769231),\n",
       " (38, 193.53333333333333),\n",
       " (27, 228.125),\n",
       " (53, 222.85714285714286),\n",
       " (57, 258.8333333333333),\n",
       " (56, 306.6666666666667),\n",
       " (43, 230.57142857142858),\n",
       " (36, 246.6),\n",
       " (22, 206.42857142857142),\n",
       " (35, 211.625),\n",
       " (45, 309.53846153846155),\n",
       " (60, 202.71428571428572),\n",
       " (67, 214.625),\n",
       " (19, 213.27272727272728),\n",
       " (30, 235.8181818181818),\n",
       " (51, 302.14285714285717),\n",
       " (25, 197.45454545454547),\n",
       " (21, 350.875),\n",
       " (42, 303.5),\n",
       " (49, 184.66666666666666),\n",
       " (48, 281.4),\n",
       " (50, 254.6),\n",
       " (39, 169.28571428571428),\n",
       " (32, 207.9090909090909),\n",
       " (58, 116.54545454545455),\n",
       " (64, 281.3333333333333),\n",
       " (31, 267.25),\n",
       " (52, 340.6363636363636),\n",
       " (24, 233.8),\n",
       " (20, 165.0),\n",
       " (62, 220.76923076923077),\n",
       " (41, 268.55555555555554),\n",
       " (44, 282.1666666666667),\n",
       " (69, 235.2),\n",
       " (65, 298.2),\n",
       " (61, 256.22222222222223),\n",
       " (28, 209.1),\n",
       " (66, 276.44444444444446),\n",
       " (46, 223.69230769230768),\n",
       " (29, 215.91666666666666),\n",
       " (18, 343.375),\n",
       " (47, 233.22222222222223),\n",
       " (34, 245.5),\n",
       " (63, 384.0),\n",
       " (23, 246.3)]"
      ]
     },
     "execution_count": 44,
     "metadata": {},
     "output_type": "execute_result"
    }
   ],
   "source": [
    "# 나이별 평균 친구 수\n",
    "age_friend_stats = data.map(lambda x: (x[2], (x[3], 1)))\n",
    "age_friend_sum_and_count = age_friend_stats.reduceByKey(lambda x, y: (x[0] + y[0], x[1] + y[1]))\n",
    "age_friend_sum_and_count.mapValues(lambda x: x[0] / x[1]).collect()"
   ]
  },
  {
   "cell_type": "code",
   "execution_count": 47,
   "id": "6b20660a",
   "metadata": {},
   "outputs": [
    {
     "data": {
      "text/plain": [
       "(48, 'Nog', 20, 1)"
      ]
     },
     "execution_count": 47,
     "metadata": {},
     "output_type": "execute_result"
    }
   ],
   "source": [
    "# 친구 수가 가장 적은 사용자\n",
    "data.reduce(lambda x, y: x if x[3] < y[3] else y)"
   ]
  },
  {
   "cell_type": "code",
   "execution_count": 48,
   "id": "5bb95d43",
   "metadata": {},
   "outputs": [
    {
     "data": {
      "text/plain": [
       "[(33, 74),\n",
       " (26, 2),\n",
       " (55, 57),\n",
       " (40, 7),\n",
       " (68, 21),\n",
       " (59, 14),\n",
       " (37, 46),\n",
       " (54, 7),\n",
       " (38, 2),\n",
       " (27, 53),\n",
       " (53, 86),\n",
       " (57, 8),\n",
       " (56, 15),\n",
       " (43, 48),\n",
       " (36, 49),\n",
       " (22, 6),\n",
       " (35, 13),\n",
       " (45, 54),\n",
       " (60, 2),\n",
       " (67, 35),\n",
       " (19, 5),\n",
       " (30, 17),\n",
       " (51, 81),\n",
       " (25, 1),\n",
       " (21, 89),\n",
       " (42, 95),\n",
       " (49, 17),\n",
       " (48, 57),\n",
       " (50, 119),\n",
       " (39, 68),\n",
       " (32, 24),\n",
       " (58, 6),\n",
       " (64, 65),\n",
       " (31, 15),\n",
       " (52, 77),\n",
       " (24, 49),\n",
       " (20, 1),\n",
       " (62, 12),\n",
       " (41, 62),\n",
       " (44, 61),\n",
       " (69, 9),\n",
       " (65, 101),\n",
       " (61, 2),\n",
       " (28, 32),\n",
       " (66, 41),\n",
       " (46, 63),\n",
       " (29, 11),\n",
       " (18, 24),\n",
       " (47, 4),\n",
       " (34, 48),\n",
       " (63, 342),\n",
       " (23, 65)]"
      ]
     },
     "execution_count": 48,
     "metadata": {},
     "output_type": "execute_result"
    }
   ],
   "source": [
    "# 나이별 친구 수 최대값 및 최소값\n",
    "data.map(lambda x: (x[2], x[3])).reduceByKey(lambda x, y: max(x, y)).collect()\n",
    "data.map(lambda x: (x[2], x[3])).reduceByKey(lambda x, y: min(x, y)).collect()"
   ]
  },
  {
   "cell_type": "code",
   "execution_count": 49,
   "id": "6107cba1",
   "metadata": {},
   "outputs": [
    {
     "data": {
      "text/plain": [
       "[(106, 'Beverly', 18, 499),\n",
       " (278, 'Data', 44, 499),\n",
       " (353, 'Julian', 64, 499),\n",
       " (192, 'Jadzia', 45, 497),\n",
       " (266, 'Jean-Luc', 66, 496),\n",
       " (408, 'Dukat', 62, 496),\n",
       " (273, 'Data', 51, 493),\n",
       " (430, 'Geordi', 36, 493),\n",
       " (89, 'Worf', 24, 492),\n",
       " (280, 'Nerys', 26, 492)]"
      ]
     },
     "execution_count": 49,
     "metadata": {},
     "output_type": "execute_result"
    }
   ],
   "source": [
    "# 친구 수 상위 10명 사용자 출력\n",
    "data.takeOrdered(10, key=lambda x: -x[3])  # -x[3]로 내림차순 정렬"
   ]
  },
  {
   "cell_type": "code",
   "execution_count": null,
   "id": "015cd9ae",
   "metadata": {},
   "outputs": [],
   "source": []
  }
 ],
 "metadata": {
  "kernelspec": {
   "display_name": "Python (spark)",
   "language": "python",
   "name": "spark"
  },
  "language_info": {
   "codemirror_mode": {
    "name": "ipython",
    "version": 3
   },
   "file_extension": ".py",
   "mimetype": "text/x-python",
   "name": "python",
   "nbconvert_exporter": "python",
   "pygments_lexer": "ipython3",
   "version": "3.8.20"
  }
 },
 "nbformat": 4,
 "nbformat_minor": 5
}
