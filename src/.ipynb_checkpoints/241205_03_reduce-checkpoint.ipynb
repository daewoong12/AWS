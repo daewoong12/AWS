{
 "cells": [
  {
   "cell_type": "code",
   "execution_count": 1,
   "id": "260d7292",
   "metadata": {},
   "outputs": [
    {
     "name": "stderr",
     "output_type": "stream",
     "text": [
      "24/12/05 10:48:05 WARN NativeCodeLoader: Unable to load native-hadoop library for your platform... using builtin-java classes where applicable\n",
      "Using Spark's default log4j profile: org/apache/spark/log4j-defaults.properties\n",
      "Setting default log level to \"WARN\".\n",
      "To adjust logging level use sc.setLogLevel(newLevel). For SparkR, use setLogLevel(newLevel).\n"
     ]
    }
   ],
   "source": [
    "from pyspark import SparkConf, SparkContext\n",
    "conf = SparkConf().setMaster('local').setAppName('241205_03_reduce')\n",
    "spark = SparkContext(conf=conf).getOrCreate()"
   ]
  },
  {
   "cell_type": "markdown",
   "id": "115ac069",
   "metadata": {},
   "source": [
    "# Reduce : 여러개의 값을 하나로 축약\n",
    "RDD.reduce(<func>)"
   ]
  },
  {
   "cell_type": "code",
   "execution_count": 2,
   "id": "8dc728bc",
   "metadata": {},
   "outputs": [
    {
     "data": {
      "text/plain": [
       "ParallelCollectionRDD[0] at readRDDFromFile at PythonRDD.scala:274"
      ]
     },
     "execution_count": 2,
     "metadata": {},
     "output_type": "execute_result"
    }
   ],
   "source": [
    "sample_rdd = spark.parallelize([1,2,3,4,5])\n",
    "sample_rdd"
   ]
  },
  {
   "cell_type": "code",
   "execution_count": 10,
   "id": "e9d95231",
   "metadata": {},
   "outputs": [
    {
     "data": {
      "text/plain": [
       "15"
      ]
     },
     "execution_count": 10,
     "metadata": {},
     "output_type": "execute_result"
    }
   ],
   "source": [
    "from operator import add\n",
    "sample_rdd.reduce(add)"
   ]
  },
  {
   "cell_type": "code",
   "execution_count": 11,
   "id": "6d0faf17",
   "metadata": {},
   "outputs": [
    {
     "data": {
      "text/plain": [
       "57"
      ]
     },
     "execution_count": 11,
     "metadata": {},
     "output_type": "execute_result"
    }
   ],
   "source": [
    "sample_rdd.reduce(lambda x, y: (x*2) + y)"
   ]
  },
  {
   "cell_type": "markdown",
   "id": "fd984b86",
   "metadata": {},
   "source": [
    "# partition이 나뉘어져 있을 때\n",
    "\n",
    "lambda x, y : (x*2) + y\n",
    "\n",
    "1. x=1, y=2 >> (1*2) + 2 = 4\n",
    "2. x=4, y=3 >> (4*2) + 3 = 11\n",
    "3. x=11, y =4 >> (11*2) + 4 = 26"
   ]
  },
  {
   "cell_type": "code",
   "execution_count": 4,
   "id": "f1a6e052",
   "metadata": {},
   "outputs": [
    {
     "data": {
      "text/plain": [
       "26"
      ]
     },
     "execution_count": 4,
     "metadata": {},
     "output_type": "execute_result"
    }
   ],
   "source": [
    "sample_rdd1 = spark.parallelize([1,2,3,4])\n",
    "sample_rdd1.reduce(lambda x, y: (x*2) + y)"
   ]
  },
  {
   "cell_type": "code",
   "execution_count": 5,
   "id": "f7b5135c",
   "metadata": {},
   "outputs": [
    {
     "data": {
      "text/plain": [
       "[[1, 2, 3, 4]]"
      ]
     },
     "execution_count": 5,
     "metadata": {},
     "output_type": "execute_result"
    }
   ],
   "source": [
    "sample_rdd1.glom().collect()"
   ]
  },
  {
   "cell_type": "code",
   "execution_count": 6,
   "id": "4174712c",
   "metadata": {},
   "outputs": [
    {
     "data": {
      "text/plain": [
       "[[1, 2], [3, 4]]"
      ]
     },
     "execution_count": 6,
     "metadata": {},
     "output_type": "execute_result"
    }
   ],
   "source": [
    "sample_rdd2 = spark.parallelize([1,2,3,4,], 2) \n",
    "sample_rdd2.glom().collect()"
   ]
  },
  {
   "cell_type": "code",
   "execution_count": 7,
   "id": "d248a8f9",
   "metadata": {},
   "outputs": [
    {
     "data": {
      "text/plain": [
       "18"
      ]
     },
     "execution_count": 7,
     "metadata": {},
     "output_type": "execute_result"
    }
   ],
   "source": [
    "sample_rdd2.reduce(lambda x, y: (x*2) + y)"
   ]
  },
  {
   "cell_type": "code",
   "execution_count": 8,
   "id": "c4288e0c",
   "metadata": {},
   "outputs": [
    {
     "data": {
      "text/plain": [
       "[[1], [2], [3, 4]]"
      ]
     },
     "execution_count": 8,
     "metadata": {},
     "output_type": "execute_result"
    }
   ],
   "source": [
    "sample_rdd3 = spark.parallelize([1, 2, 3, 4], 3)\n",
    "sample_rdd3.glom().collect()"
   ]
  },
  {
   "cell_type": "code",
   "execution_count": 9,
   "id": "0ca3f645",
   "metadata": {},
   "outputs": [
    {
     "data": {
      "text/plain": [
       "18"
      ]
     },
     "execution_count": 9,
     "metadata": {},
     "output_type": "execute_result"
    }
   ],
   "source": [
    "sample_rdd3.reduce(lambda x, y: (x*2) + y)"
   ]
  },
  {
   "cell_type": "markdown",
   "id": "a08bc098",
   "metadata": {},
   "source": [
    "### 리듀스 연산은 순서 의존적\n",
    "각 파티션 내에서 연산은 독립적으로 실행, 최종 결과는 파티션 간의 결과가 결합"
   ]
  },
  {
   "cell_type": "code",
   "execution_count": null,
   "id": "921600c3",
   "metadata": {},
   "outputs": [],
   "source": []
  },
  {
   "cell_type": "code",
   "execution_count": null,
   "id": "200d3024",
   "metadata": {},
   "outputs": [],
   "source": []
  },
  {
   "cell_type": "markdown",
   "id": "bbaf9625",
   "metadata": {},
   "source": [
    "## fold 연산의 활용\n",
    "fold(zeroValue, <func>)\n",
    "    \n",
    "zeroValue : 시작값, 항등원 *일때 1, +일 경우 0"
   ]
  },
  {
   "cell_type": "code",
   "execution_count": 12,
   "id": "5c641ffa",
   "metadata": {},
   "outputs": [
    {
     "data": {
      "text/plain": [
       "24"
      ]
     },
     "execution_count": 12,
     "metadata": {},
     "output_type": "execute_result"
    }
   ],
   "source": [
    "rdd4= spark.parallelize([2,3,4],4)\n",
    "rdd4.reduce(lambda x,y : x*y)"
   ]
  },
  {
   "cell_type": "code",
   "execution_count": 13,
   "id": "a0ac5ead",
   "metadata": {},
   "outputs": [
    {
     "data": {
      "text/plain": [
       "24"
      ]
     },
     "execution_count": 13,
     "metadata": {},
     "output_type": "execute_result"
    }
   ],
   "source": [
    "rdd4.fold(1, lambda x, y : x * y)"
   ]
  },
  {
   "cell_type": "code",
   "execution_count": 15,
   "id": "b0c0b4c9",
   "metadata": {},
   "outputs": [
    {
     "name": "stdout",
     "output_type": "stream",
     "text": [
      "Reduce Error : Can not reduce() empty RDD\n"
     ]
    }
   ],
   "source": [
    "# 빈 RDD\n",
    "rdd5 = spark.parallelize([])\n",
    "try:\n",
    "    rdd5.reduce(lambda x, y : x + y)\n",
    "except ValueError as e:\n",
    "    print(f'Reduce Error : {e}')"
   ]
  },
  {
   "cell_type": "code",
   "execution_count": 18,
   "id": "0eef05a4",
   "metadata": {},
   "outputs": [
    {
     "data": {
      "text/plain": [
       "0"
      ]
     },
     "execution_count": 18,
     "metadata": {},
     "output_type": "execute_result"
    }
   ],
   "source": [
    "rdd5.fold(0, lambda x, y : x + y)"
   ]
  },
  {
   "cell_type": "code",
   "execution_count": null,
   "id": "c2b20815",
   "metadata": {},
   "outputs": [],
   "source": []
  },
  {
   "cell_type": "markdown",
   "id": "a4f04c63",
   "metadata": {},
   "source": [
    "## reduce(), fold() 비슷한 처리를 합니다.\n",
    "1. reduce()는 단순한 RDD 축약연산, 비어있지 않은 RDD의 경우\n",
    "2. fold()는 일반적이고 오류가 없는 연산, 초기값을 적용해서 비어있는 RDD, 파티션의 경우에도 적용할 수 있음"
   ]
  },
  {
   "cell_type": "code",
   "execution_count": 19,
   "id": "6c8272e9",
   "metadata": {},
   "outputs": [
    {
     "data": {
      "text/plain": [
       "[1, 'a', 2]"
      ]
     },
     "execution_count": 19,
     "metadata": {},
     "output_type": "execute_result"
    }
   ],
   "source": [
    "rdd6 = spark.parallelize([1,'a', 2])\n",
    "rdd6.collect()"
   ]
  },
  {
   "cell_type": "code",
   "execution_count": 24,
   "id": "d44968d0",
   "metadata": {},
   "outputs": [
    {
     "name": "stdout",
     "output_type": "stream",
     "text": [
      "1a2\n"
     ]
    }
   ],
   "source": [
    "from py4j.protocol import Py4JJavaError\n",
    "try:\n",
    "    res = rdd6.reduce(lambda x, y : str(x)+ str(y))\n",
    "    print(res)\n",
    "except Py4JJavaError as e:\n",
    "    print(f'Reduce Error : {e}')"
   ]
  },
  {
   "cell_type": "code",
   "execution_count": 23,
   "id": "0be4eeab",
   "metadata": {},
   "outputs": [
    {
     "data": {
      "text/plain": [
       "'1a2'"
      ]
     },
     "execution_count": 23,
     "metadata": {},
     "output_type": "execute_result"
    }
   ],
   "source": [
    "rdd6.fold('', lambda x, y :str(x)+ str(y))"
   ]
  },
  {
   "cell_type": "code",
   "execution_count": null,
   "id": "4599e6b1",
   "metadata": {},
   "outputs": [],
   "source": [
    "# a*b 파티션 처리"
   ]
  },
  {
   "cell_type": "code",
   "execution_count": 26,
   "id": "033d2d2e",
   "metadata": {},
   "outputs": [
    {
     "data": {
      "text/plain": [
       "[1, 2, 1, 1, 3, 5, 5, 8]"
      ]
     },
     "execution_count": 26,
     "metadata": {},
     "output_type": "execute_result"
    }
   ],
   "source": [
    "# groupBy(), aggregate()\n",
    "rdd7 = spark.parallelize([1,2,1,1,3,5,5,8])\n",
    "rdd7.collect()"
   ]
  },
  {
   "cell_type": "code",
   "execution_count": 28,
   "id": "35c003af",
   "metadata": {},
   "outputs": [],
   "source": [
    "result1 = rdd7.groupBy(lambda x : x % 2).collect()"
   ]
  },
  {
   "cell_type": "code",
   "execution_count": 32,
   "id": "b0d4fe71",
   "metadata": {},
   "outputs": [
    {
     "data": {
      "text/plain": [
       "[(0, [2, 8]), (1, [1, 1, 1, 3, 5, 5])]"
      ]
     },
     "execution_count": 32,
     "metadata": {},
     "output_type": "execute_result"
    }
   ],
   "source": [
    "sorted([(x, sorted(y)) for (x, y) in result1])"
   ]
  },
  {
   "cell_type": "markdown",
   "id": "df1a67d8",
   "metadata": {},
   "source": [
    "rdd7.aggregate(zeroValue, func1_partion, func2_combine)"
   ]
  },
  {
   "cell_type": "code",
   "execution_count": 34,
   "id": "3383d8c9",
   "metadata": {},
   "outputs": [],
   "source": [
    "func1 = lambda x, y : (x[0]+y, x[1]+1)"
   ]
  },
  {
   "cell_type": "code",
   "execution_count": 35,
   "id": "838abb9d",
   "metadata": {},
   "outputs": [],
   "source": [
    "func2 = lambda x, y : (x[0]+y[0], x[1]+y[1])"
   ]
  },
  {
   "cell_type": "code",
   "execution_count": 37,
   "id": "1c2a03e6",
   "metadata": {},
   "outputs": [
    {
     "data": {
      "text/plain": [
       "[1, 2, 3, 4]"
      ]
     },
     "execution_count": 37,
     "metadata": {},
     "output_type": "execute_result"
    }
   ],
   "source": [
    "rdd8 = spark.parallelize([1,2,3,4], 2)\n",
    "rdd8.collect()"
   ]
  },
  {
   "cell_type": "code",
   "execution_count": 38,
   "id": "8d0ba8ee",
   "metadata": {},
   "outputs": [
    {
     "data": {
      "text/plain": [
       "(10, 4)"
      ]
     },
     "execution_count": 38,
     "metadata": {},
     "output_type": "execute_result"
    }
   ],
   "source": [
    "rdd8.aggregate((0, 0), func1, func2)"
   ]
  },
  {
   "cell_type": "code",
   "execution_count": 39,
   "id": "e1aa285c",
   "metadata": {},
   "outputs": [
    {
     "data": {
      "text/plain": [
       "[[1, 2], [3, 4]]"
      ]
     },
     "execution_count": 39,
     "metadata": {},
     "output_type": "execute_result"
    }
   ],
   "source": [
    "rdd8.glom().collect()"
   ]
  },
  {
   "cell_type": "markdown",
   "id": "9c8ad1c9",
   "metadata": {},
   "source": [
    "p1<br>\n",
    "x = [1,2], zerovalue = [0,0]<br>\n",
    "x[0] = 0, x[1] =0<br>\n",
    "x[0] + y = 0 + 1 = 1, x[1] + 1 = 0 + 1 = 1 >> (1,1)<br>\n",
    "x[0] + y = 1 + 2 = 3, x[1] + 1 = 1 + 1 = 2 >> (3, 2)<br>\n",
    "\n",
    "p2<br>\n",
    "x = [3,4], zerovalue = [0,0]<br>\n",
    "x[0] = 0, x[1] = 0<br>\n",
    "x[0] + y = 0 + 3 = 3, x[1] + 1 = 0 + 1 = 4 >> (3,4)<br>\n",
    "x[0] + y = 3 + 4 = 3, x[1] + 1 = 1 + 1 = 2 >> (7,2)<br>\n",
    "\n",
    "p1, p2<br>\n",
    "x = (3, 2), y = (7,2)<br>\n",
    "x[0] + y[0] = 3+7 = 10, x[1] + y[1] = 2+2 = 4<br>\n",
    "(10,4)"
   ]
  },
  {
   "cell_type": "markdown",
   "id": "ced83ac5",
   "metadata": {},
   "source": [
    "## key-value RDD (Paired RDD)\n",
    "\n",
    "groupByKey(), reduceByKey()\n",
    "그룹핑한 후에 특정 트랜스포메이션을 수행, 키가 필요함."
   ]
  },
  {
   "cell_type": "code",
   "execution_count": 40,
   "id": "287758d7",
   "metadata": {},
   "outputs": [],
   "source": [
    "rdd9 = spark.parallelize(\n",
    "    [\n",
    "        ('짜장면', 15),\n",
    "        ('짬뽕', 10),\n",
    "        ('짜장면', 5),\n",
    "        ('짬뽕', 20)\n",
    "    ]\n",
    ")"
   ]
  },
  {
   "cell_type": "code",
   "execution_count": 41,
   "id": "c8e6c9d3",
   "metadata": {},
   "outputs": [
    {
     "data": {
      "text/plain": [
       "PythonRDD[49] at RDD at PythonRDD.scala:53"
      ]
     },
     "execution_count": 41,
     "metadata": {},
     "output_type": "execute_result"
    }
   ],
   "source": [
    "rdd9_g = rdd9.groupByKey()\n",
    "rdd9_g"
   ]
  },
  {
   "cell_type": "code",
   "execution_count": 42,
   "id": "3cbff636",
   "metadata": {},
   "outputs": [
    {
     "data": {
      "text/plain": [
       "[('짜장면', 2), ('짬뽕', 2)]"
      ]
     },
     "execution_count": 42,
     "metadata": {},
     "output_type": "execute_result"
    }
   ],
   "source": [
    "rdd9_g.mapValues(len).collect() # max, min"
   ]
  },
  {
   "cell_type": "code",
   "execution_count": 43,
   "id": "eb11ebf2",
   "metadata": {},
   "outputs": [
    {
     "data": {
      "text/plain": [
       "[('짜장면', [15, 5]), ('짬뽕', [10, 20])]"
      ]
     },
     "execution_count": 43,
     "metadata": {},
     "output_type": "execute_result"
    }
   ],
   "source": [
    "rdd9_g.mapValues(list).collect()"
   ]
  },
  {
   "cell_type": "code",
   "execution_count": 44,
   "id": "05645389",
   "metadata": {},
   "outputs": [
    {
     "data": {
      "text/plain": [
       "[('짜장면', 10.0), ('짬뽕', 15.0)]"
      ]
     },
     "execution_count": 44,
     "metadata": {},
     "output_type": "execute_result"
    }
   ],
   "source": [
    "rdd9_g.mapValues(lambda x: sum(x) / len(x)).collect()"
   ]
  },
  {
   "cell_type": "code",
   "execution_count": 45,
   "id": "b6ff9849",
   "metadata": {},
   "outputs": [
    {
     "data": {
      "text/plain": [
       "[('짜장면', 20), ('짬뽕', 30)]"
      ]
     },
     "execution_count": 45,
     "metadata": {},
     "output_type": "execute_result"
    }
   ],
   "source": [
    "rdd9.reduceByKey(add).collect()"
   ]
  },
  {
   "cell_type": "code",
   "execution_count": 46,
   "id": "2fddeede",
   "metadata": {},
   "outputs": [],
   "source": [
    "# reduceByKey()가 groupByKey()보다 더 빠르다"
   ]
  },
  {
   "cell_type": "code",
   "execution_count": null,
   "id": "485b248d",
   "metadata": {},
   "outputs": [],
   "source": [
    "# countByKey()\n",
    "각 키별로 요소들의 갯수를 카운트 > Action"
   ]
  },
  {
   "cell_type": "code",
   "execution_count": 47,
   "id": "37af7770",
   "metadata": {},
   "outputs": [
    {
     "data": {
      "text/plain": [
       "defaultdict(int, {'짜장면': 2, '짬뽕': 2})"
      ]
     },
     "execution_count": 47,
     "metadata": {},
     "output_type": "execute_result"
    }
   ],
   "source": [
    "rdd9.countByKey()"
   ]
  },
  {
   "cell_type": "code",
   "execution_count": 49,
   "id": "04071b24",
   "metadata": {},
   "outputs": [
    {
     "data": {
      "text/plain": [
       "PythonRDD[59] at RDD at PythonRDD.scala:53"
      ]
     },
     "execution_count": 49,
     "metadata": {},
     "output_type": "execute_result"
    }
   ],
   "source": [
    "# key() 키만 가진 RDD > transformation\n",
    "rdd9.keys()"
   ]
  },
  {
   "cell_type": "code",
   "execution_count": 50,
   "id": "b56419c1",
   "metadata": {},
   "outputs": [
    {
     "data": {
      "text/plain": [
       "['짜장면', '짬뽕', '짜장면', '짬뽕']"
      ]
     },
     "execution_count": 50,
     "metadata": {},
     "output_type": "execute_result"
    }
   ],
   "source": [
    "rdd9.keys().collect()"
   ]
  },
  {
   "cell_type": "markdown",
   "id": "70385525",
   "metadata": {},
   "source": [
    "### join - outer join, inner join\n",
    "inner-join : 두개의 집합에서 서로 함께 존재하는 요소(key)의 집합(default)<br>\n",
    "outer-join : 한쪽에 있고, 다른쪽에 없을 때 - left, right"
   ]
  },
  {
   "cell_type": "code",
   "execution_count": 54,
   "id": "88bf0f82",
   "metadata": {},
   "outputs": [],
   "source": [
    "join_rdd1 = spark.parallelize(\n",
    "    [\n",
    "         ('a', 10),\n",
    "         ('b', 20),\n",
    "         ('c', 30)   \n",
    "    ]\n",
    ")\n",
    "\n",
    "join_rdd2 = spark.parallelize(\n",
    "    [\n",
    "        ('a', 10),\n",
    "        ('b', 20),\n",
    "        ('b', 10)\n",
    "    ]\n",
    ")"
   ]
  },
  {
   "cell_type": "code",
   "execution_count": 55,
   "id": "41080273",
   "metadata": {},
   "outputs": [
    {
     "data": {
      "text/plain": [
       "[('b', (20, 20)), ('b', (20, 10)), ('a', (10, 10))]"
      ]
     },
     "execution_count": 55,
     "metadata": {},
     "output_type": "execute_result"
    }
   ],
   "source": [
    "join_rdd1.join(join_rdd2).collect()"
   ]
  },
  {
   "cell_type": "code",
   "execution_count": 56,
   "id": "8f1ae039",
   "metadata": {},
   "outputs": [
    {
     "data": {
      "text/plain": [
       "[('b', (20, 20)), ('b', (20, 10)), ('c', (30, None)), ('a', (10, 10))]"
      ]
     },
     "execution_count": 56,
     "metadata": {},
     "output_type": "execute_result"
    }
   ],
   "source": [
    "join_rdd1.leftOuterJoin(join_rdd2).collect()"
   ]
  },
  {
   "cell_type": "code",
   "execution_count": 57,
   "id": "4cae95c9",
   "metadata": {},
   "outputs": [
    {
     "data": {
      "text/plain": [
       "[('b', (20, 20)), ('b', (20, 10)), ('a', (10, 10))]"
      ]
     },
     "execution_count": 57,
     "metadata": {},
     "output_type": "execute_result"
    }
   ],
   "source": [
    "join_rdd1.rightOuterJoin(join_rdd2).collect()"
   ]
  },
  {
   "cell_type": "code",
   "execution_count": null,
   "id": "9d5ee715",
   "metadata": {},
   "outputs": [],
   "source": []
  },
  {
   "cell_type": "code",
   "execution_count": null,
   "id": "a4dd90e1",
   "metadata": {},
   "outputs": [],
   "source": []
  },
  {
   "cell_type": "code",
   "execution_count": null,
   "id": "b3066cd2",
   "metadata": {},
   "outputs": [],
   "source": []
  },
  {
   "cell_type": "code",
   "execution_count": null,
   "id": "52e69e49",
   "metadata": {},
   "outputs": [],
   "source": []
  }
 ],
 "metadata": {
  "kernelspec": {
   "display_name": "Python (spark)",
   "language": "python",
   "name": "spark"
  },
  "language_info": {
   "codemirror_mode": {
    "name": "ipython",
    "version": 3
   },
   "file_extension": ".py",
   "mimetype": "text/x-python",
   "name": "python",
   "nbconvert_exporter": "python",
   "pygments_lexer": "ipython3",
   "version": "3.8.20"
  }
 },
 "nbformat": 4,
 "nbformat_minor": 5
}
