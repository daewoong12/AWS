{
 "cells": [
  {
   "cell_type": "code",
   "execution_count": 1,
   "id": "d500880b",
   "metadata": {},
   "outputs": [
    {
     "name": "stderr",
     "output_type": "stream",
     "text": [
      "24/12/05 10:48:05 WARN NativeCodeLoader: Unable to load native-hadoop library for your platform... using builtin-java classes where applicable\n",
      "Using Spark's default log4j profile: org/apache/spark/log4j-defaults.properties\n",
      "Setting default log level to \"WARN\".\n",
      "To adjust logging level use sc.setLogLevel(newLevel). For SparkR, use setLogLevel(newLevel).\n"
     ]
    }
   ],
   "source": [
    "from pyspark import SparkConf, SparkContext\n",
    "conf = SparkConf().setMaster('local').setAppName('241205_03_reduce')\n",
    "spark = SparkContext(conf=conf).getOrCreate()"
   ]
  },
  {
   "cell_type": "markdown",
   "id": "c5fc40ad",
   "metadata": {},
   "source": [
    "# Reduce : 여러개의 값을 하나로 축약\n",
    "RDD.reduce(<func>)"
   ]
  },
  {
   "cell_type": "code",
   "execution_count": 58,
   "id": "8402b012",
   "metadata": {},
   "outputs": [
    {
     "data": {
      "text/plain": [
       "ParallelCollectionRDD[97] at readRDDFromFile at PythonRDD.scala:274"
      ]
     },
     "execution_count": 58,
     "metadata": {},
     "output_type": "execute_result"
    }
   ],
   "source": [
    "sample_rdd = spark.parallelize([1,2,3,4,5])\n",
    "sample_rdd"
   ]
  },
  {
   "cell_type": "code",
   "execution_count": 59,
   "id": "1a1d40e5",
   "metadata": {},
   "outputs": [
    {
     "data": {
      "text/plain": [
       "15"
      ]
     },
     "execution_count": 59,
     "metadata": {},
     "output_type": "execute_result"
    }
   ],
   "source": [
    "from operator import add\n",
    "sample_rdd.reduce(add)"
   ]
  },
  {
   "cell_type": "code",
   "execution_count": 60,
   "id": "64dd482e",
   "metadata": {},
   "outputs": [
    {
     "data": {
      "text/plain": [
       "57"
      ]
     },
     "execution_count": 60,
     "metadata": {},
     "output_type": "execute_result"
    }
   ],
   "source": [
    "sample_rdd.reduce(lambda x, y: (x*2) + y)"
   ]
  },
  {
   "cell_type": "markdown",
   "id": "0b967888",
   "metadata": {},
   "source": [
    "# partition이 나뉘어져 있을 때\n",
    "\n",
    "lambda x, y : (x*2) + y\n",
    "\n",
    "1. x=1, y=2 >> (1*2) + 2 = 4\n",
    "2. x=4, y=3 >> (4*2) + 3 = 11\n",
    "3. x=11, y =4 >> (11*2) + 4 = 26"
   ]
  },
  {
   "cell_type": "code",
   "execution_count": 4,
   "id": "30b0d5f7",
   "metadata": {},
   "outputs": [
    {
     "data": {
      "text/plain": [
       "26"
      ]
     },
     "execution_count": 4,
     "metadata": {},
     "output_type": "execute_result"
    }
   ],
   "source": [
    "sample_rdd1 = spark.parallelize([1,2,3,4])\n",
    "sample_rdd1.reduce(lambda x, y: (x*2) + y)"
   ]
  },
  {
   "cell_type": "code",
   "execution_count": 5,
   "id": "f2953dcb",
   "metadata": {},
   "outputs": [
    {
     "data": {
      "text/plain": [
       "[[1, 2, 3, 4]]"
      ]
     },
     "execution_count": 5,
     "metadata": {},
     "output_type": "execute_result"
    }
   ],
   "source": [
    "sample_rdd1.glom().collect()"
   ]
  },
  {
   "cell_type": "code",
   "execution_count": 6,
   "id": "5507dde6",
   "metadata": {},
   "outputs": [
    {
     "data": {
      "text/plain": [
       "[[1, 2], [3, 4]]"
      ]
     },
     "execution_count": 6,
     "metadata": {},
     "output_type": "execute_result"
    }
   ],
   "source": [
    "sample_rdd2 = spark.parallelize([1,2,3,4,], 2) \n",
    "sample_rdd2.glom().collect()"
   ]
  },
  {
   "cell_type": "code",
   "execution_count": 7,
   "id": "f09bd2ae",
   "metadata": {},
   "outputs": [
    {
     "data": {
      "text/plain": [
       "18"
      ]
     },
     "execution_count": 7,
     "metadata": {},
     "output_type": "execute_result"
    }
   ],
   "source": [
    "sample_rdd2.reduce(lambda x, y: (x*2) + y)"
   ]
  },
  {
   "cell_type": "code",
   "execution_count": 8,
   "id": "7919bc10",
   "metadata": {},
   "outputs": [
    {
     "data": {
      "text/plain": [
       "[[1], [2], [3, 4]]"
      ]
     },
     "execution_count": 8,
     "metadata": {},
     "output_type": "execute_result"
    }
   ],
   "source": [
    "sample_rdd3 = spark.parallelize([1, 2, 3, 4], 3)\n",
    "sample_rdd3.glom().collect()"
   ]
  },
  {
   "cell_type": "code",
   "execution_count": 9,
   "id": "9e55e2b1",
   "metadata": {},
   "outputs": [
    {
     "data": {
      "text/plain": [
       "18"
      ]
     },
     "execution_count": 9,
     "metadata": {},
     "output_type": "execute_result"
    }
   ],
   "source": [
    "sample_rdd3.reduce(lambda x, y: (x*2) + y)"
   ]
  },
  {
   "cell_type": "markdown",
   "id": "b08c27e2",
   "metadata": {},
   "source": [
    "### 리듀스 연산은 순서 의존적\n",
    "각 파티션 내에서 연산은 독립적으로 실행, 최종 결과는 파티션 간의 결과가 결합"
   ]
  },
  {
   "cell_type": "code",
   "execution_count": null,
   "id": "9373e555",
   "metadata": {},
   "outputs": [],
   "source": []
  },
  {
   "cell_type": "code",
   "execution_count": null,
   "id": "3d332d81",
   "metadata": {},
   "outputs": [],
   "source": []
  },
  {
   "cell_type": "markdown",
   "id": "d03612de",
   "metadata": {},
   "source": [
    "## fold 연산의 활용\n",
    "fold(zeroValue, <func>)\n",
    "    \n",
    "zeroValue : 시작값, 항등원 *일때 1, +일 경우 0"
   ]
  },
  {
   "cell_type": "code",
   "execution_count": 12,
   "id": "a07884de",
   "metadata": {},
   "outputs": [
    {
     "data": {
      "text/plain": [
       "24"
      ]
     },
     "execution_count": 12,
     "metadata": {},
     "output_type": "execute_result"
    }
   ],
   "source": [
    "rdd4= spark.parallelize([2,3,4],4)\n",
    "rdd4.reduce(lambda x,y : x*y)"
   ]
  },
  {
   "cell_type": "code",
   "execution_count": 13,
   "id": "ab67a52c",
   "metadata": {},
   "outputs": [
    {
     "data": {
      "text/plain": [
       "24"
      ]
     },
     "execution_count": 13,
     "metadata": {},
     "output_type": "execute_result"
    }
   ],
   "source": [
    "rdd4.fold(1, lambda x, y : x * y)"
   ]
  },
  {
   "cell_type": "code",
   "execution_count": 15,
   "id": "ab0ea095",
   "metadata": {},
   "outputs": [
    {
     "name": "stdout",
     "output_type": "stream",
     "text": [
      "Reduce Error : Can not reduce() empty RDD\n"
     ]
    }
   ],
   "source": [
    "# 빈 RDD\n",
    "rdd5 = spark.parallelize([])\n",
    "try:\n",
    "    rdd5.reduce(lambda x, y : x + y)\n",
    "except ValueError as e:\n",
    "    print(f'Reduce Error : {e}')"
   ]
  },
  {
   "cell_type": "code",
   "execution_count": 18,
   "id": "2da37b42",
   "metadata": {},
   "outputs": [
    {
     "data": {
      "text/plain": [
       "0"
      ]
     },
     "execution_count": 18,
     "metadata": {},
     "output_type": "execute_result"
    }
   ],
   "source": [
    "rdd5.fold(0, lambda x, y : x + y)"
   ]
  },
  {
   "cell_type": "code",
   "execution_count": null,
   "id": "dd5ac0b0",
   "metadata": {},
   "outputs": [],
   "source": []
  },
  {
   "cell_type": "markdown",
   "id": "df6732b2",
   "metadata": {},
   "source": [
    "## reduce(), fold() 비슷한 처리를 합니다.\n",
    "1. reduce()는 단순한 RDD 축약연산, 비어있지 않은 RDD의 경우\n",
    "2. fold()는 일반적이고 오류가 없는 연산, 초기값을 적용해서 비어있는 RDD, 파티션의 경우에도 적용할 수 있음"
   ]
  },
  {
   "cell_type": "code",
   "execution_count": 19,
   "id": "4db73f89",
   "metadata": {},
   "outputs": [
    {
     "data": {
      "text/plain": [
       "[1, 'a', 2]"
      ]
     },
     "execution_count": 19,
     "metadata": {},
     "output_type": "execute_result"
    }
   ],
   "source": [
    "rdd6 = spark.parallelize([1,'a', 2])\n",
    "rdd6.collect()"
   ]
  },
  {
   "cell_type": "code",
   "execution_count": 24,
   "id": "41147093",
   "metadata": {},
   "outputs": [
    {
     "name": "stdout",
     "output_type": "stream",
     "text": [
      "1a2\n"
     ]
    }
   ],
   "source": [
    "from py4j.protocol import Py4JJavaError\n",
    "try:\n",
    "    res = rdd6.reduce(lambda x, y : str(x)+ str(y))\n",
    "    print(res)\n",
    "except Py4JJavaError as e:\n",
    "    print(f'Reduce Error : {e}')"
   ]
  },
  {
   "cell_type": "code",
   "execution_count": 23,
   "id": "e8e850b9",
   "metadata": {},
   "outputs": [
    {
     "data": {
      "text/plain": [
       "'1a2'"
      ]
     },
     "execution_count": 23,
     "metadata": {},
     "output_type": "execute_result"
    }
   ],
   "source": [
    "rdd6.fold('', lambda x, y :str(x)+ str(y))"
   ]
  },
  {
   "cell_type": "code",
   "execution_count": null,
   "id": "d4aecf68",
   "metadata": {},
   "outputs": [],
   "source": [
    "# a*b 파티션 처리"
   ]
  },
  {
   "cell_type": "code",
   "execution_count": 26,
   "id": "3a3d85c1",
   "metadata": {},
   "outputs": [
    {
     "data": {
      "text/plain": [
       "[1, 2, 1, 1, 3, 5, 5, 8]"
      ]
     },
     "execution_count": 26,
     "metadata": {},
     "output_type": "execute_result"
    }
   ],
   "source": [
    "# groupBy(), aggregate()\n",
    "rdd7 = spark.parallelize([1,2,1,1,3,5,5,8])\n",
    "rdd7.collect()"
   ]
  },
  {
   "cell_type": "code",
   "execution_count": 28,
   "id": "f765af6d",
   "metadata": {},
   "outputs": [],
   "source": [
    "result1 = rdd7.groupBy(lambda x : x % 2).collect()"
   ]
  },
  {
   "cell_type": "code",
   "execution_count": 32,
   "id": "40a36e91",
   "metadata": {},
   "outputs": [
    {
     "data": {
      "text/plain": [
       "[(0, [2, 8]), (1, [1, 1, 1, 3, 5, 5])]"
      ]
     },
     "execution_count": 32,
     "metadata": {},
     "output_type": "execute_result"
    }
   ],
   "source": [
    "sorted([(x, sorted(y)) for (x, y) in result1])"
   ]
  },
  {
   "cell_type": "markdown",
   "id": "4c5f07c8",
   "metadata": {},
   "source": [
    "rdd7.aggregate(zeroValue, func1_partion, func2_combine)"
   ]
  },
  {
   "cell_type": "code",
   "execution_count": 34,
   "id": "f046a53f",
   "metadata": {},
   "outputs": [],
   "source": [
    "func1 = lambda x, y : (x[0]+y, x[1]+1)"
   ]
  },
  {
   "cell_type": "code",
   "execution_count": 35,
   "id": "53c12cc9",
   "metadata": {},
   "outputs": [],
   "source": [
    "func2 = lambda x, y : (x[0]+y[0], x[1]+y[1])"
   ]
  },
  {
   "cell_type": "code",
   "execution_count": 37,
   "id": "381391b4",
   "metadata": {},
   "outputs": [
    {
     "data": {
      "text/plain": [
       "[1, 2, 3, 4]"
      ]
     },
     "execution_count": 37,
     "metadata": {},
     "output_type": "execute_result"
    }
   ],
   "source": [
    "rdd8 = spark.parallelize([1,2,3,4], 2)\n",
    "rdd8.collect()"
   ]
  },
  {
   "cell_type": "code",
   "execution_count": 38,
   "id": "d19d6c2c",
   "metadata": {},
   "outputs": [
    {
     "data": {
      "text/plain": [
       "(10, 4)"
      ]
     },
     "execution_count": 38,
     "metadata": {},
     "output_type": "execute_result"
    }
   ],
   "source": [
    "rdd8.aggregate((0, 0), func1, func2)"
   ]
  },
  {
   "cell_type": "code",
   "execution_count": 39,
   "id": "18bb6a3b",
   "metadata": {},
   "outputs": [
    {
     "data": {
      "text/plain": [
       "[[1, 2], [3, 4]]"
      ]
     },
     "execution_count": 39,
     "metadata": {},
     "output_type": "execute_result"
    }
   ],
   "source": [
    "rdd8.glom().collect()"
   ]
  },
  {
   "cell_type": "markdown",
   "id": "a1d7caf5",
   "metadata": {},
   "source": [
    "p1<br>\n",
    "x = [1,2], zerovalue = [0,0]<br>\n",
    "x[0] = 0, x[1] =0<br>\n",
    "x[0] + y = 0 + 1 = 1, x[1] + 1 = 0 + 1 = 1 >> (1,1)<br>\n",
    "x[0] + y = 1 + 2 = 3, x[1] + 1 = 1 + 1 = 2 >> (3, 2)<br>\n",
    "\n",
    "p2<br>\n",
    "x = [3,4], zerovalue = [0,0]<br>\n",
    "x[0] = 0, x[1] = 0<br>\n",
    "x[0] + y = 0 + 3 = 3, x[1] + 1 = 0 + 1 = 4 >> (3,4)<br>\n",
    "x[0] + y = 3 + 4 = 3, x[1] + 1 = 1 + 1 = 2 >> (7,2)<br>\n",
    "\n",
    "p1, p2<br>\n",
    "x = (3, 2), y = (7,2)<br>\n",
    "x[0] + y[0] = 3+7 = 10, x[1] + y[1] = 2+2 = 4<br>\n",
    "(10,4)"
   ]
  },
  {
   "cell_type": "markdown",
   "id": "95f6537a",
   "metadata": {},
   "source": [
    "## key-value RDD (Paired RDD)\n",
    "\n",
    "groupByKey(), reduceByKey()\n",
    "그룹핑한 후에 특정 트랜스포메이션을 수행, 키가 필요함."
   ]
  },
  {
   "cell_type": "code",
   "execution_count": 40,
   "id": "baee8222",
   "metadata": {},
   "outputs": [],
   "source": [
    "rdd9 = spark.parallelize(\n",
    "    [\n",
    "        ('짜장면', 15),\n",
    "        ('짬뽕', 10),\n",
    "        ('짜장면', 5),\n",
    "        ('짬뽕', 20)\n",
    "    ]\n",
    ")"
   ]
  },
  {
   "cell_type": "code",
   "execution_count": 41,
   "id": "f157c4da",
   "metadata": {},
   "outputs": [
    {
     "data": {
      "text/plain": [
       "PythonRDD[49] at RDD at PythonRDD.scala:53"
      ]
     },
     "execution_count": 41,
     "metadata": {},
     "output_type": "execute_result"
    }
   ],
   "source": [
    "rdd9_g = rdd9.groupByKey()\n",
    "rdd9_g"
   ]
  },
  {
   "cell_type": "code",
   "execution_count": 42,
   "id": "5b70f07d",
   "metadata": {},
   "outputs": [
    {
     "data": {
      "text/plain": [
       "[('짜장면', 2), ('짬뽕', 2)]"
      ]
     },
     "execution_count": 42,
     "metadata": {},
     "output_type": "execute_result"
    }
   ],
   "source": [
    "rdd9_g.mapValues(len).collect() # max, min"
   ]
  },
  {
   "cell_type": "code",
   "execution_count": 43,
   "id": "92d10471",
   "metadata": {},
   "outputs": [
    {
     "data": {
      "text/plain": [
       "[('짜장면', [15, 5]), ('짬뽕', [10, 20])]"
      ]
     },
     "execution_count": 43,
     "metadata": {},
     "output_type": "execute_result"
    }
   ],
   "source": [
    "rdd9_g.mapValues(list).collect()"
   ]
  },
  {
   "cell_type": "code",
   "execution_count": 44,
   "id": "56659e54",
   "metadata": {},
   "outputs": [
    {
     "data": {
      "text/plain": [
       "[('짜장면', 10.0), ('짬뽕', 15.0)]"
      ]
     },
     "execution_count": 44,
     "metadata": {},
     "output_type": "execute_result"
    }
   ],
   "source": [
    "rdd9_g.mapValues(lambda x: sum(x) / len(x)).collect()"
   ]
  },
  {
   "cell_type": "code",
   "execution_count": 45,
   "id": "53930d78",
   "metadata": {},
   "outputs": [
    {
     "data": {
      "text/plain": [
       "[('짜장면', 20), ('짬뽕', 30)]"
      ]
     },
     "execution_count": 45,
     "metadata": {},
     "output_type": "execute_result"
    }
   ],
   "source": [
    "rdd9.reduceByKey(add).collect()"
   ]
  },
  {
   "cell_type": "code",
   "execution_count": 46,
   "id": "0e1d8252",
   "metadata": {},
   "outputs": [],
   "source": [
    "# reduceByKey()가 groupByKey()보다 더 빠르다"
   ]
  },
  {
   "cell_type": "code",
   "execution_count": null,
   "id": "ecb70cb9",
   "metadata": {},
   "outputs": [],
   "source": [
    "# countByKey()\n",
    "각 키별로 요소들의 갯수를 카운트 > Action"
   ]
  },
  {
   "cell_type": "code",
   "execution_count": 47,
   "id": "52a07f5a",
   "metadata": {},
   "outputs": [
    {
     "data": {
      "text/plain": [
       "defaultdict(int, {'짜장면': 2, '짬뽕': 2})"
      ]
     },
     "execution_count": 47,
     "metadata": {},
     "output_type": "execute_result"
    }
   ],
   "source": [
    "rdd9.countByKey()"
   ]
  },
  {
   "cell_type": "code",
   "execution_count": 49,
   "id": "61fa2593",
   "metadata": {},
   "outputs": [
    {
     "data": {
      "text/plain": [
       "PythonRDD[59] at RDD at PythonRDD.scala:53"
      ]
     },
     "execution_count": 49,
     "metadata": {},
     "output_type": "execute_result"
    }
   ],
   "source": [
    "# key() 키만 가진 RDD > transformation\n",
    "rdd9.keys()"
   ]
  },
  {
   "cell_type": "code",
   "execution_count": 50,
   "id": "4e5dcc94",
   "metadata": {},
   "outputs": [
    {
     "data": {
      "text/plain": [
       "['짜장면', '짬뽕', '짜장면', '짬뽕']"
      ]
     },
     "execution_count": 50,
     "metadata": {},
     "output_type": "execute_result"
    }
   ],
   "source": [
    "rdd9.keys().collect()"
   ]
  },
  {
   "cell_type": "markdown",
   "id": "4fa7ac34",
   "metadata": {},
   "source": [
    "### join - outer join, inner join\n",
    "inner-join : 두개의 집합에서 서로 함께 존재하는 요소(key)의 집합(default)<br>\n",
    "outer-join : 한쪽에 있고, 다른쪽에 없을 때 - left, right"
   ]
  },
  {
   "cell_type": "code",
   "execution_count": 54,
   "id": "d3deb9d2",
   "metadata": {},
   "outputs": [],
   "source": [
    "join_rdd1 = spark.parallelize(\n",
    "    [\n",
    "         ('a', 10),\n",
    "         ('b', 20),\n",
    "         ('c', 30)   \n",
    "    ]\n",
    ")\n",
    "\n",
    "join_rdd2 = spark.parallelize(\n",
    "    [\n",
    "        ('a', 10),\n",
    "        ('b', 20),\n",
    "        ('b', 10)\n",
    "    ]\n",
    ")"
   ]
  },
  {
   "cell_type": "code",
   "execution_count": 55,
   "id": "e0f86e11",
   "metadata": {},
   "outputs": [
    {
     "data": {
      "text/plain": [
       "[('b', (20, 20)), ('b', (20, 10)), ('a', (10, 10))]"
      ]
     },
     "execution_count": 55,
     "metadata": {},
     "output_type": "execute_result"
    }
   ],
   "source": [
    "join_rdd1.join(join_rdd2).collect()"
   ]
  },
  {
   "cell_type": "code",
   "execution_count": 56,
   "id": "4cd36293",
   "metadata": {},
   "outputs": [
    {
     "data": {
      "text/plain": [
       "[('b', (20, 20)), ('b', (20, 10)), ('c', (30, None)), ('a', (10, 10))]"
      ]
     },
     "execution_count": 56,
     "metadata": {},
     "output_type": "execute_result"
    }
   ],
   "source": [
    "join_rdd1.leftOuterJoin(join_rdd2).collect()"
   ]
  },
  {
   "cell_type": "code",
   "execution_count": 57,
   "id": "d3eaee7c",
   "metadata": {},
   "outputs": [
    {
     "data": {
      "text/plain": [
       "[('b', (20, 20)), ('b', (20, 10)), ('a', (10, 10))]"
      ]
     },
     "execution_count": 57,
     "metadata": {},
     "output_type": "execute_result"
    }
   ],
   "source": [
    "join_rdd1.rightOuterJoin(join_rdd2).collect()"
   ]
  },
  {
   "cell_type": "code",
   "execution_count": null,
   "id": "ed23b64c",
   "metadata": {},
   "outputs": [],
   "source": []
  },
  {
   "cell_type": "code",
   "execution_count": null,
   "id": "6aa9f9c9",
   "metadata": {},
   "outputs": [],
   "source": []
  },
  {
   "cell_type": "code",
   "execution_count": null,
   "id": "10bd75ba",
   "metadata": {},
   "outputs": [],
   "source": []
  },
  {
   "cell_type": "code",
   "execution_count": null,
   "id": "a3f9a894",
   "metadata": {},
   "outputs": [],
   "source": []
  }
 ],
 "metadata": {
  "kernelspec": {
   "display_name": "Python (spark)",
   "language": "python",
   "name": "spark"
  },
  "language_info": {
   "codemirror_mode": {
    "name": "ipython",
    "version": 3
   },
   "file_extension": ".py",
   "mimetype": "text/x-python",
   "name": "python",
   "nbconvert_exporter": "python",
   "pygments_lexer": "ipython3",
   "version": "3.8.20"
  }
 },
 "nbformat": 4,
 "nbformat_minor": 5
}
